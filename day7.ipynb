{
 "cells": [
  {
   "cell_type": "code",
   "execution_count": 2,
   "metadata": {},
   "outputs": [],
   "source": [
    "import numpy as np\n",
    "import pandas as pd\n",
    "import scipy as sc\n",
    "import re"
   ]
  },
  {
   "cell_type": "markdown",
   "metadata": {},
   "source": [
    "## Day 7\n",
    "How many bags can fit a shiny golden bag?"
   ]
  },
  {
   "cell_type": "code",
   "execution_count": 6,
   "metadata": {},
   "outputs": [],
   "source": [
    "import re\n",
    "\n",
    "file7 = open('day7_input', 'r') \n",
    "input7_lines = file7.readlines()"
   ]
  },
  {
   "cell_type": "code",
   "execution_count": null,
   "metadata": {},
   "outputs": [],
   "source": [
    "for idx, line in enumerate(input7_lines):\n",
    "    print(idx, line)"
   ]
  },
  {
   "cell_type": "code",
   "execution_count": 48,
   "metadata": {},
   "outputs": [
    {
     "data": {
      "text/plain": [
       "'drab plum bags contain 5 clear turquoise bags, 5 striped aqua bags, 4 dotted gold bags, 4 plaid chartreuse bags.\\n'"
      ]
     },
     "execution_count": 48,
     "metadata": {},
     "output_type": "execute_result"
    }
   ],
   "source": [
    "a=input7_lines[0]\n",
    "a"
   ]
  },
  {
   "cell_type": "code",
   "execution_count": 50,
   "metadata": {},
   "outputs": [],
   "source": [
    "s1 = re.sub(r'[^\\w]', ' ', a)\n",
    "s2 = re.split(r'\\s', s1)\n",
    "b = [s for s in s2 if s not in ignore_cases]"
   ]
  },
  {
   "cell_type": "code",
   "execution_count": 56,
   "metadata": {},
   "outputs": [
    {
     "data": {
      "text/plain": [
       "'5'"
      ]
     },
     "execution_count": 56,
     "metadata": {},
     "output_type": "execute_result"
    }
   ],
   "source": [
    "' '.join(b[2:3:])"
   ]
  },
  {
   "cell_type": "code",
   "execution_count": 61,
   "metadata": {},
   "outputs": [
    {
     "data": {
      "text/plain": [
       "[]"
      ]
     },
     "execution_count": 61,
     "metadata": {},
     "output_type": "execute_result"
    }
   ],
   "source": [
    "b=['a', 'b']\n",
    "b[2:]"
   ]
  },
  {
   "cell_type": "code",
   "execution_count": 62,
   "metadata": {},
   "outputs": [],
   "source": [
    "ignore_cases = ['', 'bags', 'bag', 'contain', 'no', 'other']\n",
    "instructions = []\n",
    "possible_colors_bag = set([])\n",
    "possible_colors_contains = set([])\n",
    "for line in input7_lines:\n",
    "    \n",
    "    #this_bag_instruct_list = line.replace('\\n', '').replace(',', '').replace('.', '').replace('contain ', '').replace('bags', 'piet').replace('bag', 'bags').replace('piet', 'bags').split(' bags')\n",
    "    # Replace all symbols in string to free space.\n",
    "    line_no_symbols = re.sub(r'[^\\w]', ' ', line)\n",
    "    # Split string into words, removing ignore_cases.\n",
    "    this_bag_instruct_list = [word for word in re.split(r'\\s', line_no_symbols) if word not in ignore_cases]\n",
    "    this_bag_instruct_list = np.array(this_bag_instruct_list)\n",
    "    \n",
    "    this_bag = ' '.join(this_bag_instruct_list[:2])\n",
    "    possible_colors_bag.add(this_bag)\n",
    "    \n",
    "    contains = []\n",
    "    if len(this_bag_instruct_list[2:]) == 0:\n",
    "        continue\n",
    "    else:\n",
    "        inside_instructs = this_bag_instruct_list[2:].reshape(-1,3)\n",
    "        \n",
    "    for instruct in inside_instructs:\n",
    "        bag_color = ' '.join(instruct[1:])\n",
    "        #print('_' + instruct + '_')\n",
    "        contains.append((int(instruct[0]), bag_color))    \n",
    "        possible_colors_contains.add(bag_color)\n",
    "        \n",
    "    instructions.append([this_bag, contains])\n",
    "    \n",
    "# Obtain all possible colors and sort the list.\n",
    "all_colors = list(possible_colors_bag)\n",
    "all_colors.sort()\n",
    "\n",
    "# Make mapping of color name to color index. \n",
    "color_to_index = dict(zip(all_colors, range(len(all_colors))))\n",
    "# Set index of shiny gold bag\n",
    "shiny_gold_index = color_to_index['shiny gold']"
   ]
  },
  {
   "cell_type": "code",
   "execution_count": 64,
   "metadata": {},
   "outputs": [
    {
     "data": {
      "text/plain": [
       "array([], dtype='<U19')"
      ]
     },
     "execution_count": 64,
     "metadata": {},
     "output_type": "execute_result"
    }
   ],
   "source": [
    "np.setdiff1d(list(possible_colors_contains), list(possible_colors_bag))"
   ]
  },
  {
   "cell_type": "code",
   "execution_count": 78,
   "metadata": {},
   "outputs": [],
   "source": [
    "substitute_colors = np.zeros((len(all_colors), len(all_colors)))#.astype(np.float)\n",
    "# array indexing: row:column\n",
    "for (this_color, contains) in instructions:\n",
    "    if len(contains) == 0:\n",
    "        #print(contains)\n",
    "        continue\n",
    "    #print(contains, len(contains))\n",
    "    for (contains_nbr, contains_color) in contains:\n",
    "        substitute_colors[color_to_index[this_color], color_to_index[contains_color]] = 1"
   ]
  },
  {
   "cell_type": "code",
   "execution_count": null,
   "metadata": {},
   "outputs": [],
   "source": [
    "this_bag_contains_after_n_subs = np.eye(len(all_colors))#.astype(np.int)\n",
    "bags_that_can_contain_shiny_gold_idx = set([])\n",
    "for idx in range(1000):\n",
    "    %time this_bag_contains_after_n_subs = this_bag_contains_after_n_subs.dot(substitute_colors) \n",
    "    this_bag_contains_after_n_subs[ this_bag_contains_after_n_subs > 1 ] = 1\n",
    "    \n",
    "    all_bags_containing_shiny_gold = this_bag_contains_after_n_subs.T[shiny_gold_index]\n",
    "    if all_bags_containing_shiny_gold.sum() > 0:\n",
    "        all_bags_containing_shiny_gold_idx = np.where(all_bags_containing_shiny_gold)[0]\n",
    "        [bags_that_can_contain_shiny_gold_idx.add(bag_idx) for bag_idx in all_bags_containing_shiny_gold_idx]\n",
    "     \n",
    "    print(idx, this_bag_contains_after_n_subs.sum(), all_bags_containing_shiny_gold.sum())\n",
    "    if this_bag_contains_after_n_subs.sum() == 0:\n",
    "        break\n",
    "        \n"
   ]
  },
  {
   "cell_type": "markdown",
   "metadata": {},
   "source": [
    "#### Concept of matrix multiplications"
   ]
  },
  {
   "cell_type": "code",
   "execution_count": 137,
   "metadata": {},
   "outputs": [
    {
     "data": {
      "text/plain": [
       "array([[0, 1, 0],\n",
       "       [0, 0, 1],\n",
       "       [1, 0, 0]])"
      ]
     },
     "execution_count": 137,
     "metadata": {},
     "output_type": "execute_result"
    }
   ],
   "source": [
    "trs = np.array([[0, 1, 0],\n",
    "                [0, 0, 1],\n",
    "                [1, 0, 0]])\n",
    "a = np.eye(3).astype(np.int)\n",
    "\n",
    "b = a.dot(trs)\n",
    "b"
   ]
  },
  {
   "cell_type": "code",
   "execution_count": 138,
   "metadata": {},
   "outputs": [
    {
     "data": {
      "text/plain": [
       "array([[0, 0, 1],\n",
       "       [1, 0, 0],\n",
       "       [0, 1, 0]])"
      ]
     },
     "execution_count": 138,
     "metadata": {},
     "output_type": "execute_result"
    }
   ],
   "source": [
    "c = b.dot(trs)\n",
    "c"
   ]
  },
  {
   "cell_type": "code",
   "execution_count": null,
   "metadata": {},
   "outputs": [],
   "source": [
    "[all_colors[idx] for idx in list(bags_that_can_contain_shiny_gold_idx)]"
   ]
  },
  {
   "cell_type": "code",
   "execution_count": 175,
   "metadata": {},
   "outputs": [
    {
     "name": "stdout",
     "output_type": "stream",
     "text": [
      "151\n"
     ]
    }
   ],
   "source": [
    "answer7A=len(bags_that_can_contain_shiny_gold_idx)\n",
    "print(answer7A)"
   ]
  },
  {
   "cell_type": "markdown",
   "metadata": {},
   "source": [
    "### Part B\n",
    "\n",
    "Given that you have a shiny gold bag, how many bags are inside?"
   ]
  },
  {
   "cell_type": "code",
   "execution_count": 177,
   "metadata": {},
   "outputs": [],
   "source": [
    "substitute_colors_number = np.zeros((len(all_colors), len(all_colors))).astype(np.int)\n",
    "# array indexing: row:column\n",
    "for (this_color, contains) in instructions:\n",
    "    if len(contains) == 0:\n",
    "        #print(contains)\n",
    "        continue\n",
    "    #print(contains, len(contains))\n",
    "    for (contains_nbr, contains_color) in contains:\n",
    "        substitute_colors_number[color_to_index[this_color], color_to_index[contains_color]] = contains_nbr"
   ]
  },
  {
   "cell_type": "code",
   "execution_count": 178,
   "metadata": {},
   "outputs": [
    {
     "name": "stdout",
     "output_type": "stream",
     "text": [
      "0 5 5\n",
      "1 61 66\n",
      "2 171 237\n",
      "3 666 903\n",
      "4 3300 4203\n",
      "5 8340 12543\n",
      "6 22536 35079\n",
      "7 6480 41559\n",
      "8 0 41559\n",
      "9 0 41559\n",
      "10 0 41559\n",
      "11 0 41559\n",
      "12 0 41559\n",
      "13 0 41559\n",
      "14 0 41559\n",
      "15 0 41559\n",
      "16 0 41559\n",
      "17 0 41559\n",
      "18 0 41559\n",
      "19 0 41559\n",
      "20 0 41559\n",
      "21 0 41559\n",
      "22 0 41559\n"
     ]
    }
   ],
   "source": [
    "this_bag_contains_after_n_subs = np.eye(len(all_colors)).astype(np.int)\n",
    "number_of_bags_inside_shiny_gold = 0\n",
    "\n",
    "for idx in range(1000):\n",
    "    this_bag_contains_after_n_subs = this_bag_contains_after_n_subs.dot(substitute_colors_number)\n",
    "    #this_bag_contains_after_n_subs[ this_bag_contains_after_n_subs > 1 ] = 1\n",
    "    \n",
    "    all_bags_inside_shiny_gold_bag_level_n = this_bag_contains_after_n_subs[shiny_gold_index]\n",
    "    number_of_bags_inside_shiny_gold += all_bags_inside_shiny_gold_bag_level_n.sum()\n",
    "     \n",
    "    print(idx, all_bags_inside_shiny_gold_bag_level_n.sum(), number_of_bags_inside_shiny_gold)\n",
    "    if this_bag_contains_after_n_subs.sum() == 0:\n",
    "        break"
   ]
  }
 ],
 "metadata": {
  "kernelspec": {
   "display_name": "Python 3",
   "language": "python",
   "name": "python3"
  },
  "language_info": {
   "codemirror_mode": {
    "name": "ipython",
    "version": 3
   },
   "file_extension": ".py",
   "mimetype": "text/x-python",
   "name": "python",
   "nbconvert_exporter": "python",
   "pygments_lexer": "ipython3",
   "version": "3.8.5"
  }
 },
 "nbformat": 4,
 "nbformat_minor": 4
}
