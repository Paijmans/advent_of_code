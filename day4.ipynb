{
 "cells": [
  {
   "cell_type": "code",
   "execution_count": 2,
   "metadata": {},
   "outputs": [],
   "source": [
    "import numpy as np\n",
    "import pandas as pd\n",
    "import scipy as sc\n",
    "import re"
   ]
  },
  {
   "cell_type": "markdown",
   "metadata": {},
   "source": [
    "## Day 4"
   ]
  },
  {
   "cell_type": "code",
   "execution_count": 146,
   "metadata": {},
   "outputs": [],
   "source": [
    "file1 = open('day4_input', 'r') \n",
    "input4_lines = file1.readlines() \n",
    "\n",
    "passport_entry_names = ['iyr', 'eyr', 'hgt', 'hcl', 'ecl', 'pid', 'byr', 'cid']\n",
    "essential_entries_names = passport_entry_names[:-1]"
   ]
  },
  {
   "cell_type": "code",
   "execution_count": 147,
   "metadata": {},
   "outputs": [
    {
     "data": {
      "text/plain": [
       "['iyr', 'eyr', 'hgt', 'hcl', 'ecl', 'pid', 'byr']"
      ]
     },
     "execution_count": 147,
     "metadata": {},
     "output_type": "execute_result"
    }
   ],
   "source": [
    "essential_entries_names"
   ]
  },
  {
   "cell_type": "code",
   "execution_count": 148,
   "metadata": {},
   "outputs": [],
   "source": [
    "passports = []\n",
    "passport=[]\n",
    "for line in input4_lines:\n",
    "    # New passport entry\n",
    "    if line == '\\n':\n",
    "        passports.append(passport)\n",
    "        passport = []\n",
    "    else:\n",
    "        # Remove newlines\n",
    "        line1 = line.replace('\\n','')\n",
    "        # Split over spaces\n",
    "        entry_list = line1.split(' ')\n",
    "        for entry in entry_list:\n",
    "            passport.append(entry)\n",
    "            \n",
    "passports.append(passport)"
   ]
  },
  {
   "cell_type": "code",
   "execution_count": 149,
   "metadata": {},
   "outputs": [],
   "source": [
    "paspports_df = pd.DataFrame(columns=passport_entry_names, index=range(len(passports)))\n",
    "for idx, passport in enumerate(passports):\n",
    "    for entry in passport:\n",
    "        key, value = entry.split(':')\n",
    "        if not key in passport_entry_names:\n",
    "            print(key)\n",
    "        paspports_df.loc[idx, key] = value"
   ]
  },
  {
   "cell_type": "code",
   "execution_count": 150,
   "metadata": {},
   "outputs": [
    {
     "data": {
      "text/html": [
       "<div>\n",
       "<style scoped>\n",
       "    .dataframe tbody tr th:only-of-type {\n",
       "        vertical-align: middle;\n",
       "    }\n",
       "\n",
       "    .dataframe tbody tr th {\n",
       "        vertical-align: top;\n",
       "    }\n",
       "\n",
       "    .dataframe thead th {\n",
       "        text-align: right;\n",
       "    }\n",
       "</style>\n",
       "<table border=\"1\" class=\"dataframe\">\n",
       "  <thead>\n",
       "    <tr style=\"text-align: right;\">\n",
       "      <th></th>\n",
       "      <th>iyr</th>\n",
       "      <th>eyr</th>\n",
       "      <th>hgt</th>\n",
       "      <th>hcl</th>\n",
       "      <th>ecl</th>\n",
       "      <th>pid</th>\n",
       "      <th>byr</th>\n",
       "      <th>cid</th>\n",
       "    </tr>\n",
       "  </thead>\n",
       "  <tbody>\n",
       "    <tr>\n",
       "      <th>0</th>\n",
       "      <td>2013</td>\n",
       "      <td>2034</td>\n",
       "      <td>176cm</td>\n",
       "      <td>#fffffd</td>\n",
       "      <td>amb</td>\n",
       "      <td>934693255</td>\n",
       "      <td>2000</td>\n",
       "      <td>89</td>\n",
       "    </tr>\n",
       "    <tr>\n",
       "      <th>1</th>\n",
       "      <td>2017</td>\n",
       "      <td>2020</td>\n",
       "      <td>155cm</td>\n",
       "      <td>#b5c3db</td>\n",
       "      <td>grn</td>\n",
       "      <td>#baec97</td>\n",
       "      <td>1939</td>\n",
       "      <td>NaN</td>\n",
       "    </tr>\n",
       "    <tr>\n",
       "      <th>2</th>\n",
       "      <td>2023</td>\n",
       "      <td>1972</td>\n",
       "      <td>152cm</td>\n",
       "      <td>z</td>\n",
       "      <td>dne</td>\n",
       "      <td>526669252</td>\n",
       "      <td>1960</td>\n",
       "      <td>NaN</td>\n",
       "    </tr>\n",
       "    <tr>\n",
       "      <th>3</th>\n",
       "      <td>2016</td>\n",
       "      <td>2028</td>\n",
       "      <td>73in</td>\n",
       "      <td>#c0946f</td>\n",
       "      <td>#473aaf</td>\n",
       "      <td>565318180</td>\n",
       "      <td>1926</td>\n",
       "      <td>NaN</td>\n",
       "    </tr>\n",
       "    <tr>\n",
       "      <th>4</th>\n",
       "      <td>2019</td>\n",
       "      <td>2030</td>\n",
       "      <td>170cm</td>\n",
       "      <td>#62e117</td>\n",
       "      <td>oth</td>\n",
       "      <td>472686027</td>\n",
       "      <td>1940</td>\n",
       "      <td>277</td>\n",
       "    </tr>\n",
       "  </tbody>\n",
       "</table>\n",
       "</div>"
      ],
      "text/plain": [
       "    iyr   eyr    hgt      hcl      ecl        pid   byr  cid\n",
       "0  2013  2034  176cm  #fffffd      amb  934693255  2000   89\n",
       "1  2017  2020  155cm  #b5c3db      grn    #baec97  1939  NaN\n",
       "2  2023  1972  152cm        z      dne  526669252  1960  NaN\n",
       "3  2016  2028   73in  #c0946f  #473aaf  565318180  1926  NaN\n",
       "4  2019  2030  170cm  #62e117      oth  472686027  1940  277"
      ]
     },
     "execution_count": 150,
     "metadata": {},
     "output_type": "execute_result"
    }
   ],
   "source": [
    "paspports_df.head()"
   ]
  },
  {
   "cell_type": "markdown",
   "metadata": {},
   "source": [
    "### Part A"
   ]
  },
  {
   "cell_type": "code",
   "execution_count": 151,
   "metadata": {},
   "outputs": [],
   "source": [
    "passports_missing_essentials_nbr = paspports_df[essential_entries_names].isnull().sum(axis=1)"
   ]
  },
  {
   "cell_type": "code",
   "execution_count": 152,
   "metadata": {},
   "outputs": [],
   "source": [
    "passports_missing_essentials_nbr = passports_missing_essentials_nbr > 0"
   ]
  },
  {
   "cell_type": "code",
   "execution_count": 153,
   "metadata": {},
   "outputs": [
    {
     "data": {
      "text/plain": [
       "25"
      ]
     },
     "execution_count": 153,
     "metadata": {},
     "output_type": "execute_result"
    }
   ],
   "source": [
    "passports_missing_essentials_nbr.sum()"
   ]
  },
  {
   "cell_type": "code",
   "execution_count": null,
   "metadata": {},
   "outputs": [],
   "source": [
    "len(passports) - passports_invalid.sum()"
   ]
  },
  {
   "cell_type": "markdown",
   "metadata": {},
   "source": [
    "### Part B"
   ]
  },
  {
   "cell_type": "code",
   "execution_count": 156,
   "metadata": {},
   "outputs": [],
   "source": [
    "import re\n",
    "import functools"
   ]
  },
  {
   "cell_type": "code",
   "execution_count": null,
   "metadata": {},
   "outputs": [],
   "source": [
    "help(functools)"
   ]
  },
  {
   "cell_type": "code",
   "execution_count": 169,
   "metadata": {},
   "outputs": [],
   "source": [
    "# Define regex expression for each entry type.\n",
    "#s='1945'\n",
    "#re.fullmatch(\"[1920-20002]\", s)\n",
    "\n",
    "#byr 1920 <= yr <= 2002\n",
    "regex_byr=r\"^\\d{4}$\"\n",
    "#iyr #2010-2020\n",
    "regex_iyr=r\"^\\d{4}$\"\n",
    "#eyr 2020-2030\n",
    "regex_eyr=r\"^\\d{4}$\"\n",
    "#hgt cm:150-193, in:59-76\n",
    "regex_hgt=r\"^(\\d{3,3}cm|\\d{2,2}in)$\"\n",
    "#hcl\n",
    "regex_hcl=r\"^#[0-9a-f]{6}$\"\n",
    "#ecl\n",
    "regex_ecl=r\"^(amb|blu|brn|gry|grn|hzl|oth)$\"\n",
    "#pid\n",
    "regex_pid=r\"^\\d{9}$\""
   ]
  },
  {
   "cell_type": "code",
   "execution_count": 170,
   "metadata": {},
   "outputs": [],
   "source": []
  },
  {
   "cell_type": "code",
   "execution_count": 171,
   "metadata": {},
   "outputs": [],
   "source": [
    "# decorator: Check whether string fullfils given regex.\n",
    "def valid_entry_regex(func):\n",
    "    @functools.wraps(func)\n",
    "    def wrapper_valid_entry_regex(*args, **kwargs):\n",
    "        #print(args)\n",
    "        if args[0] is np.nan:\n",
    "            return False\n",
    "        \n",
    "        if not re.fullmatch(args[1], args[0]) is None:\n",
    "            return func(*args, **kwargs)\n",
    "        else:\n",
    "            return False  \n",
    "        \n",
    "    return wrapper_valid_entry_regex\n",
    "\n",
    "# Input string is 4 digit year within specified range.\n",
    "@valid_entry_regex\n",
    "def valid_year(entry, regex, low, high):\n",
    "    #check if given number is within range\n",
    "    \n",
    "    if (int(entry) >= low) & (int(entry) <= high):\n",
    "        return True\n",
    "    else:\n",
    "        return False\n",
    "    \n",
    "# Validity of input string is set by regex only.    \n",
    "@valid_entry_regex\n",
    "def valid_def(entry, regex):\n",
    "    return True\n",
    "\n",
    "# Input sting is value + unit\n",
    "@valid_entry_regex\n",
    "def valid_hgt_regex(hgt, regex):\n",
    "    \n",
    "    match = re.match(r\"(\\d+)(cm|in)\", hgt, re.I)\n",
    "    if match:\n",
    "        length, unit = match.groups()\n",
    "        length = int(length)\n",
    "        \n",
    "        if unit == 'cm':\n",
    "            if (length >= 150) & (length <= 193):\n",
    "                return True\n",
    "        if unit == 'in':\n",
    "            if (length >= 59) & (length <= 76):\n",
    "                return True\n",
    "            \n",
    "    return False\n",
    "\n",
    "# Validity checkers for input. Each function requires only a string as input.   \n",
    "def valid_byr(entry):\n",
    "    return valid_year(entry, regex_byr, 1920, 2002)\n",
    "\n",
    "def valid_iyr(entry):\n",
    "    return valid_year(entry, regex_iyr, 2010, 2020)\n",
    "\n",
    "def valid_eyr(entry):\n",
    "    return valid_year(entry, regex_eyr, 2020, 2030)\n",
    "\n",
    "def valid_hgt(hgt):\n",
    "    return valid_hgt_regex(hgt, regex_hgt)\n",
    "\n",
    "def valid_hcl(entry):\n",
    "    return valid_def(entry, regex_hcl)\n",
    "\n",
    "def valid_ecl(entry):\n",
    "    return valid_def(entry, regex_ecl)\n",
    "\n",
    "def valid_pid(entry):\n",
    "    return valid_def(entry, regex_pid)\n"
   ]
  },
  {
   "cell_type": "code",
   "execution_count": 172,
   "metadata": {},
   "outputs": [],
   "source": [
    "paspports_df['valid_byr'] = paspports_df['byr'].apply(valid_byr)\n",
    "paspports_df['valid_eyr'] = paspports_df['eyr'].apply(valid_eyr)\n",
    "paspports_df['valid_iyr'] = paspports_df['iyr'].apply(valid_iyr)\n",
    "paspports_df['valid_hgt'] = paspports_df['hgt'].apply(valid_hgt)\n",
    "paspports_df['valid_hcl'] = paspports_df['hcl'].apply(valid_hcl)\n",
    "paspports_df['valid_ecl'] = paspports_df['ecl'].apply(valid_ecl)\n",
    "paspports_df['valid_pid'] = paspports_df['pid'].apply(valid_pid)"
   ]
  },
  {
   "cell_type": "code",
   "execution_count": 175,
   "metadata": {},
   "outputs": [
    {
     "data": {
      "text/html": [
       "<div>\n",
       "<style scoped>\n",
       "    .dataframe tbody tr th:only-of-type {\n",
       "        vertical-align: middle;\n",
       "    }\n",
       "\n",
       "    .dataframe tbody tr th {\n",
       "        vertical-align: top;\n",
       "    }\n",
       "\n",
       "    .dataframe thead th {\n",
       "        text-align: right;\n",
       "    }\n",
       "</style>\n",
       "<table border=\"1\" class=\"dataframe\">\n",
       "  <thead>\n",
       "    <tr style=\"text-align: right;\">\n",
       "      <th></th>\n",
       "      <th>iyr</th>\n",
       "      <th>eyr</th>\n",
       "      <th>hgt</th>\n",
       "      <th>hcl</th>\n",
       "      <th>ecl</th>\n",
       "      <th>pid</th>\n",
       "      <th>byr</th>\n",
       "      <th>cid</th>\n",
       "      <th>valid_byr</th>\n",
       "      <th>valid_eyr</th>\n",
       "      <th>valid_iyr</th>\n",
       "      <th>valid_hgt</th>\n",
       "      <th>valid_hcl</th>\n",
       "      <th>valid_ecl</th>\n",
       "      <th>valid_pid</th>\n",
       "    </tr>\n",
       "  </thead>\n",
       "  <tbody>\n",
       "    <tr>\n",
       "      <th>0</th>\n",
       "      <td>2013</td>\n",
       "      <td>2034</td>\n",
       "      <td>176cm</td>\n",
       "      <td>#fffffd</td>\n",
       "      <td>amb</td>\n",
       "      <td>934693255</td>\n",
       "      <td>2000</td>\n",
       "      <td>89</td>\n",
       "      <td>True</td>\n",
       "      <td>False</td>\n",
       "      <td>True</td>\n",
       "      <td>True</td>\n",
       "      <td>True</td>\n",
       "      <td>True</td>\n",
       "      <td>True</td>\n",
       "    </tr>\n",
       "    <tr>\n",
       "      <th>1</th>\n",
       "      <td>2017</td>\n",
       "      <td>2020</td>\n",
       "      <td>155cm</td>\n",
       "      <td>#b5c3db</td>\n",
       "      <td>grn</td>\n",
       "      <td>#baec97</td>\n",
       "      <td>1939</td>\n",
       "      <td>NaN</td>\n",
       "      <td>True</td>\n",
       "      <td>True</td>\n",
       "      <td>True</td>\n",
       "      <td>True</td>\n",
       "      <td>True</td>\n",
       "      <td>True</td>\n",
       "      <td>False</td>\n",
       "    </tr>\n",
       "    <tr>\n",
       "      <th>2</th>\n",
       "      <td>2023</td>\n",
       "      <td>1972</td>\n",
       "      <td>152cm</td>\n",
       "      <td>z</td>\n",
       "      <td>dne</td>\n",
       "      <td>526669252</td>\n",
       "      <td>1960</td>\n",
       "      <td>NaN</td>\n",
       "      <td>True</td>\n",
       "      <td>False</td>\n",
       "      <td>False</td>\n",
       "      <td>True</td>\n",
       "      <td>False</td>\n",
       "      <td>False</td>\n",
       "      <td>True</td>\n",
       "    </tr>\n",
       "    <tr>\n",
       "      <th>3</th>\n",
       "      <td>2016</td>\n",
       "      <td>2028</td>\n",
       "      <td>73in</td>\n",
       "      <td>#c0946f</td>\n",
       "      <td>#473aaf</td>\n",
       "      <td>565318180</td>\n",
       "      <td>1926</td>\n",
       "      <td>NaN</td>\n",
       "      <td>True</td>\n",
       "      <td>True</td>\n",
       "      <td>True</td>\n",
       "      <td>True</td>\n",
       "      <td>True</td>\n",
       "      <td>False</td>\n",
       "      <td>True</td>\n",
       "    </tr>\n",
       "    <tr>\n",
       "      <th>4</th>\n",
       "      <td>2019</td>\n",
       "      <td>2030</td>\n",
       "      <td>170cm</td>\n",
       "      <td>#62e117</td>\n",
       "      <td>oth</td>\n",
       "      <td>472686027</td>\n",
       "      <td>1940</td>\n",
       "      <td>277</td>\n",
       "      <td>True</td>\n",
       "      <td>True</td>\n",
       "      <td>True</td>\n",
       "      <td>True</td>\n",
       "      <td>True</td>\n",
       "      <td>True</td>\n",
       "      <td>True</td>\n",
       "    </tr>\n",
       "  </tbody>\n",
       "</table>\n",
       "</div>"
      ],
      "text/plain": [
       "    iyr   eyr    hgt      hcl      ecl        pid   byr  cid  valid_byr  \\\n",
       "0  2013  2034  176cm  #fffffd      amb  934693255  2000   89       True   \n",
       "1  2017  2020  155cm  #b5c3db      grn    #baec97  1939  NaN       True   \n",
       "2  2023  1972  152cm        z      dne  526669252  1960  NaN       True   \n",
       "3  2016  2028   73in  #c0946f  #473aaf  565318180  1926  NaN       True   \n",
       "4  2019  2030  170cm  #62e117      oth  472686027  1940  277       True   \n",
       "\n",
       "   valid_eyr  valid_iyr  valid_hgt  valid_hcl  valid_ecl  valid_pid  \n",
       "0      False       True       True       True       True       True  \n",
       "1       True       True       True       True       True      False  \n",
       "2      False      False       True      False      False       True  \n",
       "3       True       True       True       True      False       True  \n",
       "4       True       True       True       True       True       True  "
      ]
     },
     "execution_count": 175,
     "metadata": {},
     "output_type": "execute_result"
    }
   ],
   "source": [
    "paspports_df.head()"
   ]
  },
  {
   "cell_type": "code",
   "execution_count": 185,
   "metadata": {},
   "outputs": [
    {
     "name": "stdout",
     "output_type": "stream",
     "text": [
      "Number of valid passoorts: 156\n"
     ]
    }
   ],
   "source": [
    "essential_entries_names_validity = ['valid_' + s for s in essential_entries_names]\n",
    "\n",
    "answer4B = paspports_df[essential_entries_names_validity].all(axis=1).sum()\n",
    "print('Number of valid passoorts:', answer4B)"
   ]
  }
 ],
 "metadata": {
  "kernelspec": {
   "display_name": "Python 3",
   "language": "python",
   "name": "python3"
  },
  "language_info": {
   "codemirror_mode": {
    "name": "ipython",
    "version": 3
   },
   "file_extension": ".py",
   "mimetype": "text/x-python",
   "name": "python",
   "nbconvert_exporter": "python",
   "pygments_lexer": "ipython3",
   "version": "3.8.5"
  }
 },
 "nbformat": 4,
 "nbformat_minor": 4
}
