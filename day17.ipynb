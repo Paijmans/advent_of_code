{
 "cells": [
  {
   "cell_type": "code",
   "execution_count": 2,
   "metadata": {},
   "outputs": [],
   "source": [
    "import numpy as np\n",
    "import pandas as pd\n",
    "import scipy as sc\n",
    "import re"
   ]
  },
  {
   "cell_type": "markdown",
   "metadata": {},
   "source": [
    "## Day 17"
   ]
  },
  {
   "cell_type": "code",
   "execution_count": 276,
   "metadata": {},
   "outputs": [
    {
     "data": {
      "text/plain": [
       "array([[0, 0, 0, 1, 1, 1, 0, 1],\n",
       "       [1, 0, 1, 0, 1, 1, 0, 0],\n",
       "       [0, 1, 1, 0, 1, 1, 0, 0],\n",
       "       [0, 0, 1, 1, 0, 0, 0, 1],\n",
       "       [0, 1, 1, 1, 0, 1, 1, 0],\n",
       "       [0, 1, 0, 0, 1, 1, 0, 0],\n",
       "       [0, 0, 0, 0, 0, 1, 1, 1],\n",
       "       [0, 1, 1, 1, 1, 0, 0, 1]])"
      ]
     },
     "execution_count": 276,
     "metadata": {},
     "output_type": "execute_result"
    }
   ],
   "source": [
    "file17 = open('day17_input', 'r') \n",
    "input17_lines = file17.readlines() \n",
    "\n",
    "initial_state = []\n",
    "for line in input17_lines:\n",
    "    new_line = line.replace('\\n', '').replace('.', '0').replace('#', '1')\n",
    "    initial_state += [np.array([int(s) for s in new_line])]\n",
    "    \n",
    "initial_state = np.array(initial_state)\n",
    "initial_state"
   ]
  },
  {
   "cell_type": "markdown",
   "metadata": {},
   "source": [
    "### Part A\n",
    "\n",
    "Progress system through 6 cycles.\n",
    "- System size in infinite with all sites inactive (apart from initial state)\n",
    "- All sites have 3*9-1=26 neighbours\n",
    "- If exactly 3 neighbors are active, site becomes active.\n",
    "- If 2 or 3 neighbors are active, site remains active. Otherwize it becomes inactive."
   ]
  },
  {
   "cell_type": "code",
   "execution_count": 275,
   "metadata": {},
   "outputs": [],
   "source": [
    "from scipy import ndimage\n",
    "\n",
    "initial_state_3d = initial_state.reshape((8,8,1))\n",
    "initial_shape_3d = initial_state_3d.shape\n",
    "cycle_nbr = 6\n",
    "\n",
    "# Set kernel.\n",
    "neighbor_kernel = (np.zeros((3,3,3))+1).astype(int)\n",
    "neighbor_kernel[1,1,1]=0\n",
    "\n",
    "# Set final shape of system.\n",
    "final_shape = np.array(initial_shape_3d) + (2*cycle_nbr, 2*cycle_nbr, 2*cycle_nbr)\n",
    "\n",
    "# Intialize system\n",
    "system = np.zeros(final_shape).astype(int)\n",
    "system[6:14,6:14,6:7] = initial_state_3d"
   ]
  },
  {
   "cell_type": "code",
   "execution_count": 266,
   "metadata": {},
   "outputs": [
    {
     "name": "stdout",
     "output_type": "stream",
     "text": [
      "(20, 20, 13) 806\n",
      "0 39 13 52\n",
      "(20, 20, 13) 1352\n",
      "1 46 15 61\n",
      "(20, 20, 13) 1586\n",
      "2 91 26 117\n",
      "(20, 20, 13) 3042\n",
      "3 123 29 152\n",
      "(20, 20, 13) 3952\n",
      "4 164 37 201\n",
      "(20, 20, 13) 5226\n",
      "5 306 56 362\n",
      "answer17A: 362\n"
     ]
    }
   ],
   "source": [
    "for cycle_nbr in range(6):\n",
    "    \n",
    "    # Find neighbor number of each site.\n",
    "    system_nn = ndimage.convolve(system, neighbor_kernel, mode='constant')\n",
    "    print(system.shape, system_nn.sum())\n",
    "    \n",
    "    # Rule 1: Inactive sites with 3 active neighbors turn active.\n",
    "    turn_active = (system == 0) & (system_nn == 3)\n",
    "    # Rule 2: Active sites with 2 or 3 neighbors stay active.\n",
    "    remain_active = (system == 1) & ((system_nn == 2) | (system_nn == 3))\n",
    "\n",
    "    # Reset system state.\n",
    "    system = (turn_active | remain_active).astype(int)\n",
    "    \n",
    "    print(cycle_nbr, turn_active.sum(), remain_active.sum(), system.sum())\n",
    "    \n",
    "print('answer17A:', system.sum())"
   ]
  },
  {
   "cell_type": "markdown",
   "metadata": {},
   "source": [
    "### Part B\n",
    "\n",
    "Same thing, but now in 4D"
   ]
  },
  {
   "cell_type": "code",
   "execution_count": 281,
   "metadata": {},
   "outputs": [],
   "source": [
    "initial_state_4d = initial_state.reshape(8,8,1,1)\n",
    "initial_shape_4d = initial_state_4d.shape\n",
    "\n",
    "cycle_nbr = 6\n",
    "\n",
    "# Set kernel in 4D.\n",
    "neighbor_kernel = (np.zeros((3,3,3,3))+1).astype(int)\n",
    "neighbor_kernel[1,1,1,1]=0\n",
    "\n",
    "# Set final shape of system.\n",
    "final_shape_4d = np.array(initial_shape_4d) + (2*cycle_nbr, 2*cycle_nbr, 2*cycle_nbr, 2*cycle_nbr)\n",
    "\n",
    "# Intialize system\n",
    "system = np.zeros(final_shape_4d).astype(int)\n",
    "system[6:14,6:14,6:7, 6:7] = initial_state_4d"
   ]
  },
  {
   "cell_type": "code",
   "execution_count": 282,
   "metadata": {},
   "outputs": [
    {
     "name": "stdout",
     "output_type": "stream",
     "text": [
      "(20, 20, 13, 13) 2480\n",
      "0 129 13 142\n",
      "(20, 20, 13, 13) 11360\n",
      "1 157 4 161\n",
      "(20, 20, 13, 13) 12880\n",
      "2 452 40 492\n",
      "(20, 20, 13, 13) 39360\n",
      "3 612 28 640\n",
      "(20, 20, 13, 13) 51200\n",
      "4 1132 100 1232\n",
      "(20, 20, 13, 13) 98560\n",
      "5 1920 60 1980\n",
      "answer17B: 1980\n"
     ]
    }
   ],
   "source": [
    "for cycle_nbr in range(6):\n",
    "    \n",
    "    # Find neighbor number of each site.\n",
    "    system_nn = ndimage.convolve(system, neighbor_kernel, mode='constant')\n",
    "    print(system.shape, system_nn.sum())\n",
    "    \n",
    "    # Rule 1: Inactive sites with 3 active neighbors turn active.\n",
    "    turn_active = (system == 0) & (system_nn == 3)\n",
    "    # Rule 2: Active sites with 2 or 3 neighbors stay active.\n",
    "    remain_active = (system == 1) & ((system_nn == 2) | (system_nn == 3))\n",
    "\n",
    "    # Reset system state.\n",
    "    system = (turn_active | remain_active).astype(int)\n",
    "    \n",
    "    print(cycle_nbr, turn_active.sum(), remain_active.sum(), system.sum())\n",
    "    \n",
    "print('answer17B:', system.sum())"
   ]
  }
 ],
 "metadata": {
  "kernelspec": {
   "display_name": "Python 3",
   "language": "python",
   "name": "python3"
  },
  "language_info": {
   "codemirror_mode": {
    "name": "ipython",
    "version": 3
   },
   "file_extension": ".py",
   "mimetype": "text/x-python",
   "name": "python",
   "nbconvert_exporter": "python",
   "pygments_lexer": "ipython3",
   "version": "3.8.5"
  }
 },
 "nbformat": 4,
 "nbformat_minor": 4
}
