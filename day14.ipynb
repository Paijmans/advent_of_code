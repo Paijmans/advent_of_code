{
 "cells": [
  {
   "cell_type": "code",
   "execution_count": 2,
   "metadata": {},
   "outputs": [],
   "source": [
    "import numpy as np\n",
    "import pandas as pd\n",
    "import scipy as sc\n",
    "import re"
   ]
  },
  {
   "cell_type": "markdown",
   "metadata": {},
   "source": [
    "## Day 14"
   ]
  },
  {
   "cell_type": "code",
   "execution_count": 3,
   "metadata": {},
   "outputs": [],
   "source": [
    "file14 = open('day14_input', 'r') \n",
    "file14_lines = file14.readlines()"
   ]
  },
  {
   "cell_type": "markdown",
   "metadata": {},
   "source": [
    "### Part A"
   ]
  },
  {
   "cell_type": "code",
   "execution_count": 59,
   "metadata": {},
   "outputs": [],
   "source": [
    "bitcode_empty = [0]*36\n",
    "memory = {}\n",
    "for line in file14_lines:\n",
    "    cmd, value = re.split(r' = ', line.replace('\\n', ''))\n",
    "    \n",
    "    if 'mask' in cmd:\n",
    "        current_mask = np.array(list(value))\n",
    "        mask_ch_idx  = np.where(current_mask == 'X')[0]\n",
    "    elif 'mem' in cmd:\n",
    "        mem_address = int(re.findall(r'\\d+', cmd)[0])\n",
    "        temp_bin    = list(bin(int(value)))[2:]\n",
    "\n",
    "        old_mem_value_bin = bitcode_empty[len(temp_bin):] + temp_bin\n",
    "        old_mem_value_bin = np.array(old_mem_value_bin)\n",
    "       \n",
    "        new_mem_value_bin = current_mask.copy()\n",
    "        new_mem_value_bin[mask_ch_idx] = old_mem_value_bin[mask_ch_idx]\n",
    "        \n",
    "        memory[mem_address] = int(''.join(list(new_mem_value_bin)),2)"
   ]
  },
  {
   "cell_type": "code",
   "execution_count": 60,
   "metadata": {},
   "outputs": [
    {
     "name": "stdout",
     "output_type": "stream",
     "text": [
      "13496669152158\n"
     ]
    }
   ],
   "source": [
    "total = 0\n",
    "for key, val in memory.items():\n",
    "    total += val\n",
    "    \n",
    "answer14A = total\n",
    "print(answer14A)"
   ]
  },
  {
   "cell_type": "markdown",
   "metadata": {},
   "source": [
    "### Part B"
   ]
  },
  {
   "cell_type": "code",
   "execution_count": 27,
   "metadata": {},
   "outputs": [],
   "source": [
    "def subst_X(old_value_bin, n):\n",
    "    \n",
    "    where_X = old_value_bin == 'X'\n",
    "    N_X     = where_X.sum()\n",
    "    \n",
    "    subst_bin = list(bin(n))[2:]\n",
    "    subst_bin = [0]*(N_X-len(subst_bin)) + subst_bin\n",
    "    \n",
    "    new_value_bin = old_value_bin.copy()\n",
    "    #print(N_X, len(subst_bin) )\n",
    "    new_value_bin[ where_X ] = subst_bin\n",
    "    \n",
    "    return new_value_bin\n",
    "\n",
    "bitcode_empty = [0]*36\n",
    "memory = {}\n",
    "for line in file14_lines:\n",
    "    cmd, value = re.split(r' = ', line.replace('\\n', ''))\n",
    "    \n",
    "    if 'mask' in cmd:\n",
    "        current_mask = np.array(list(value))\n",
    "    elif 'mem' in cmd:\n",
    "        mem_address_dec = int(re.findall(r'\\d+', cmd)[0])\n",
    "        mem_address_bin = list(bin(mem_address_dec))[2:]\n",
    "        mem_value_dec   = int(value)\n",
    "\n",
    "        mem_address_bin = [0]*(36-len(mem_address_bin)) + mem_address_bin\n",
    "        mem_address_bin = np.array(mem_address_bin)        \n",
    "        mem_address_bin[ current_mask != '0' ] = current_mask[ current_mask != '0' ]\n",
    "       \n",
    "        N_X = (mem_address_bin == 'X').sum()\n",
    "    \n",
    "        #print(len(mem_address_bin), mem_address_bin)\n",
    "        for n in range(2**N_X):\n",
    "            new_mem_address_bin = subst_X(mem_address_bin, n)\n",
    "            new_mem_address_dec = int(''.join(new_mem_address_bin), 2)\n",
    "            \n",
    "            memory[new_mem_address_dec] = mem_value_dec"
   ]
  },
  {
   "cell_type": "code",
   "execution_count": 28,
   "metadata": {},
   "outputs": [
    {
     "name": "stdout",
     "output_type": "stream",
     "text": [
      "answer 14B: 3278997609887\n"
     ]
    }
   ],
   "source": [
    "total = 0\n",
    "for key, val in memory.items():\n",
    "    total += val\n",
    "    \n",
    "answer14B = total\n",
    "print('answer 14B:', answer14B)"
   ]
  }
 ],
 "metadata": {
  "kernelspec": {
   "display_name": "Python 3",
   "language": "python",
   "name": "python3"
  },
  "language_info": {
   "codemirror_mode": {
    "name": "ipython",
    "version": 3
   },
   "file_extension": ".py",
   "mimetype": "text/x-python",
   "name": "python",
   "nbconvert_exporter": "python",
   "pygments_lexer": "ipython3",
   "version": "3.8.5"
  }
 },
 "nbformat": 4,
 "nbformat_minor": 4
}
