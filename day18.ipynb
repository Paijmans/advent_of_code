{
 "cells": [
  {
   "cell_type": "code",
   "execution_count": 2,
   "metadata": {},
   "outputs": [],
   "source": [
    "import numpy as np\n",
    "import pandas as pd\n",
    "import scipy as sc\n",
    "import re"
   ]
  },
  {
   "cell_type": "markdown",
   "metadata": {},
   "source": [
    "## Day 18"
   ]
  },
  {
   "cell_type": "code",
   "execution_count": 11,
   "metadata": {},
   "outputs": [],
   "source": [
    "file18 = open('day18_input', 'r') \n",
    "input18_lines = file18.readlines() \n",
    "\n",
    "def eval_line(line, line_parser):\n",
    "    \n",
    "    level = 0\n",
    "    level_start = dict(zip(range(10), [0]*10))    \n",
    "    idx = 0\n",
    "    s   = line[idx]\n",
    "    while s != '.':\n",
    "\n",
    "        if s == '(':\n",
    "            level += 1\n",
    "            level_start[level] = idx+1\n",
    "        elif s == ')':\n",
    "            top_level_exp = line[level_start[level]:idx]\n",
    "\n",
    "            #print(level, level_start[level], idx, top_level_exp)\n",
    "\n",
    "            top_level_exp_list = re.split(r' ', top_level_exp)\n",
    "            ans_str = line_parser(top_level_exp_list)\n",
    "\n",
    "            line = line[:level_start[level]-1] + ans_str + line[idx+1:]\n",
    "            #print(line)\n",
    "\n",
    "            level -= 1\n",
    "            idx = level_start[level]-1\n",
    "\n",
    "        idx += 1\n",
    "        s = line[idx]\n",
    "\n",
    "    top_level_exp_list = re.split(r' ', line)\n",
    "    return int(line_parser(top_level_exp_list))"
   ]
  },
  {
   "cell_type": "markdown",
   "metadata": {},
   "source": [
    "### part A\n",
    "- Solve numeric expressions left-to-right\n",
    "- Take nesting through braces () into account."
   ]
  },
  {
   "cell_type": "code",
   "execution_count": 12,
   "metadata": {},
   "outputs": [],
   "source": [
    "def rec_eval_A(exp):\n",
    "    \n",
    "    if len(exp)>3:\n",
    "        ans_str = rec_eval_A(exp[:-2])\n",
    "        new_exp = [ans_str] + exp[-2:]\n",
    "        return rec_eval_A(new_exp)\n",
    "    else:\n",
    "        return str(int(eval(''.join(exp))))"
   ]
  },
  {
   "cell_type": "code",
   "execution_count": 13,
   "metadata": {},
   "outputs": [
    {
     "name": "stdout",
     "output_type": "stream",
     "text": [
      "answer18A: 25190263477788\n"
     ]
    }
   ],
   "source": [
    "lines_answer = []\n",
    "for line in input18_lines:\n",
    "    line = line.replace('\\n', '.')\n",
    "    \n",
    "    lines_answer += [eval_line(line, rec_eval_A)]\n",
    "\n",
    "print('answer18A:', sum(lines_answer))"
   ]
  },
  {
   "cell_type": "markdown",
   "metadata": {},
   "source": [
    "### part B\n",
    "- Now + precedes * in evaluation."
   ]
  },
  {
   "cell_type": "code",
   "execution_count": 20,
   "metadata": {},
   "outputs": [],
   "source": [
    "def rec_eval_B(exp):\n",
    "\n",
    "    # Remove all multiplactions\n",
    "    while '+' in exp:\n",
    "        sum_idx = exp.index('+')    \n",
    "        exp = exp[:sum_idx-1] + [str(eval(''.join(exp[sum_idx-1:sum_idx+2])))] + exp[sum_idx+2:]\n",
    "    \n",
    "    if len(exp)>3:\n",
    "        ans_str = rec_eval_B(exp[:-2])\n",
    "        new_exp = [ans_str] + exp[-2:]\n",
    "        return rec_eval_B(new_exp)\n",
    "    else:\n",
    "        return str(int(eval(''.join(exp))))"
   ]
  },
  {
   "cell_type": "code",
   "execution_count": 21,
   "metadata": {},
   "outputs": [
    {
     "name": "stdout",
     "output_type": "stream",
     "text": [
      "answer18B: 297139939002972\n"
     ]
    }
   ],
   "source": [
    "lines_answer = []\n",
    "for line in input18_lines:\n",
    "    line = line.replace('\\n', '.')\n",
    "    \n",
    "    lines_answer += [eval_line(line, rec_eval_B)]   \n",
    "\n",
    "print('answer18B:', sum(lines_answer))"
   ]
  }
 ],
 "metadata": {
  "kernelspec": {
   "display_name": "Python 3",
   "language": "python",
   "name": "python3"
  },
  "language_info": {
   "codemirror_mode": {
    "name": "ipython",
    "version": 3
   },
   "file_extension": ".py",
   "mimetype": "text/x-python",
   "name": "python",
   "nbconvert_exporter": "python",
   "pygments_lexer": "ipython3",
   "version": "3.8.5"
  }
 },
 "nbformat": 4,
 "nbformat_minor": 4
}
