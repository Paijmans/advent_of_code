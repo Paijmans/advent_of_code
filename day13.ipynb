{
 "cells": [
  {
   "cell_type": "code",
   "execution_count": 2,
   "metadata": {},
   "outputs": [],
   "source": [
    "import numpy as np\n",
    "import pandas as pd\n",
    "import scipy as sc\n",
    "import re"
   ]
  },
  {
   "cell_type": "markdown",
   "metadata": {},
   "source": [
    "## Day 13"
   ]
  },
  {
   "cell_type": "code",
   "execution_count": 6,
   "metadata": {},
   "outputs": [],
   "source": [
    "file13 = open('day13_input', 'r') \n",
    "file13_lines = file13.readlines()\n",
    "\n",
    "my_time = int(file13_lines[0])\n",
    "bus_times = file13_lines[1]"
   ]
  },
  {
   "cell_type": "code",
   "execution_count": 10,
   "metadata": {},
   "outputs": [],
   "source": [
    "bus_times_list = re.split(r',', bus_times.replace('\\n',''))\n",
    "bus_times_list = [int(t) for t in bus_times_list if t != 'x']\n",
    "bus_times_list = np.array(bus_times_list)"
   ]
  },
  {
   "cell_type": "code",
   "execution_count": 11,
   "metadata": {},
   "outputs": [],
   "source": [
    "waiting_times = [bt - (my_time % bt) for bt in bus_times_list]\n",
    "first_bus_idx = np.argmin(waiting_times)"
   ]
  },
  {
   "cell_type": "code",
   "execution_count": 12,
   "metadata": {},
   "outputs": [],
   "source": [
    "answer13A = bus_times_list[first_bus_idx] * waiting_times[first_bus_idx]"
   ]
  },
  {
   "cell_type": "code",
   "execution_count": 13,
   "metadata": {},
   "outputs": [
    {
     "name": "stdout",
     "output_type": "stream",
     "text": [
      "3865\n"
     ]
    }
   ],
   "source": [
    "print(answer13A)"
   ]
  },
  {
   "cell_type": "markdown",
   "metadata": {},
   "source": [
    "### Part B\n",
    "\n",
    "Solve the linear equation\n",
    "$$ t + \\mathbf p = \\bar\\bar k \\bar n $$ "
   ]
  },
  {
   "cell_type": "code",
   "execution_count": 55,
   "metadata": {},
   "outputs": [
    {
     "data": {
      "text/plain": [
       "array([[ 13,   0],\n",
       "       [ 37,   7],\n",
       "       [449,  13],\n",
       "       [ 29,  15],\n",
       "       [ 19,  32],\n",
       "       [ 23,  36],\n",
       "       [773,  44],\n",
       "       [ 41,  54],\n",
       "       [ 17,  61]])"
      ]
     },
     "execution_count": 55,
     "metadata": {},
     "output_type": "execute_result"
    }
   ],
   "source": [
    "bus_times_list = re.split(r',', bus_times.replace('\\n',''))\n",
    "bus_times_list = [[int(t),idx] for idx, t in enumerate(bus_times_list) if t != 'x']\n",
    "bus_times_list = np.array(bus_times_list)\n",
    "bus_times_list"
   ]
  },
  {
   "cell_type": "code",
   "execution_count": 61,
   "metadata": {},
   "outputs": [
    {
     "data": {
      "text/plain": [
       "array([ 13,  44, 462,  44,  51,  59, 817,  95,  78])"
      ]
     },
     "execution_count": 61,
     "metadata": {},
     "output_type": "execute_result"
    }
   ],
   "source": [
    "bus_times_list.sum(axis=1)"
   ]
  },
  {
   "cell_type": "markdown",
   "metadata": {},
   "source": [
    "#### Solution strategy\n",
    "\n",
    "- 1. 773 n6 = t + 44 = t + 37 + 7 = 37 (n1 + 1)\n",
    "- 3. 773 n6 = t + 29 + 15 = 29 * (n3 + 1)\n",
    "- 8. 773 n6 = 17 ( n7 - 1 )\n",
    "\n",
    "- 0. 449 n2 = 13 (n0 + 1)\n",
    "- 4. 449 n2 = t + 13 = 19 ( n4 - 1 ) + // 19 n4 = t + 13 + 19\n",
    "- 5. 449 n2 = 23 (n5 - 1) // 23 n5 = t + 13 + 23\n",
    "- 7. 449 n2 = 41 (n6 - 1)\n",
    "\n",
    "773 * 37 * 29 * 17 * a = t + 44\n",
    "449 * 19 * 23 * 41 * 13 * b = t + 13 \n",
    "-------------------------------- -\n",
    "773 * 37 * 29 * 17 * a - 449 * 19 * 23 * 41 * 13 * b = 31 \n",
    "\n",
    "=> Solve for b: b = (773 * 37 * 29 * 17 * a - 31) / (449 * 19 * 23 * 41 * 13)"
   ]
  },
  {
   "cell_type": "markdown",
   "metadata": {},
   "source": [
    "#### Lösungsvesuche eins"
   ]
  },
  {
   "cell_type": "code",
   "execution_count": 30,
   "metadata": {},
   "outputs": [],
   "source": [
    "t_offset = bus_times_list.T[1]\n",
    "t_bus    = bus_times_list.T[0]\n",
    "t_bus_inv = 1./t_bus\n",
    "ones_vec = np.ones(len(t_bus))"
   ]
  },
  {
   "cell_type": "code",
   "execution_count": 22,
   "metadata": {},
   "outputs": [],
   "source": [
    "k_inv = np.linalg.inv(np.diag(t_bus))"
   ]
  },
  {
   "cell_type": "code",
   "execution_count": 49,
   "metadata": {},
   "outputs": [],
   "source": [
    "eps=1e-2\n",
    "offset = k_inv.dot(t_offset)\n",
    "\n",
    "for t in range(1000000, 1000000):\n",
    "    a = t*t_bus_inv + offset \n",
    "    \n",
    "    if not (a - np.floor(a) > eps).any():\n",
    "        print(t)"
   ]
  },
  {
   "cell_type": "markdown",
   "metadata": {},
   "source": [
    "#### Lösungsversuch zwei"
   ]
  },
  {
   "cell_type": "code",
   "execution_count": 70,
   "metadata": {},
   "outputs": [
    {
     "name": "stdout",
     "output_type": "stream",
     "text": [
      "0 -44\n",
      "1000000 14100292999956\n",
      "2000000 28200585999956\n",
      "3000000 42300878999956\n",
      "4000000 56401171999956\n",
      "5000000 70501464999956\n",
      "6000000 84601757999956\n",
      "7000000 98702050999956\n",
      "8000000 112802343999956\n",
      "9000000 126902636999956\n",
      "10000000 141002929999956\n",
      "11000000 155103222999956\n",
      "12000000 169203515999956\n",
      "13000000 183303808999956\n",
      "14000000 197404101999956\n",
      "15000000 211504394999956\n",
      "16000000 225604687999956\n",
      "17000000 239704980999956\n",
      "18000000 253805273999956\n",
      "19000000 267905566999956\n",
      "20000000 282005859999956\n",
      "21000000 296106152999956\n",
      "22000000 310206445999956\n",
      "23000000 324306738999956\n",
      "24000000 338407031999956\n",
      "25000000 352507324999956\n",
      "26000000 366607617999956\n",
      "27000000 380707910999956\n",
      "28000000 394808203999956\n",
      "29000000 408908496999956\n",
      "final t: 415579909629976\n"
     ]
    }
   ],
   "source": [
    "pref = 773 * 37 * 29 * 17\n",
    "denom = 449 * 19 * 23 * 41 * 13\n",
    "\n",
    "for a in range(1000000000):\n",
    "    \n",
    "    mod = (pref * a - 31) % denom\n",
    "    \n",
    "    if mod == 0:\n",
    "        t = pref * a - 44\n",
    "        print('final t:', t)\n",
    "        break\n",
    "        \n",
    "    if a%1000000 == 0:\n",
    "        t = pref * a - 44\n",
    "        print(a, t)"
   ]
  }
 ],
 "metadata": {
  "kernelspec": {
   "display_name": "Python 3",
   "language": "python",
   "name": "python3"
  },
  "language_info": {
   "codemirror_mode": {
    "name": "ipython",
    "version": 3
   },
   "file_extension": ".py",
   "mimetype": "text/x-python",
   "name": "python",
   "nbconvert_exporter": "python",
   "pygments_lexer": "ipython3",
   "version": "3.8.5"
  }
 },
 "nbformat": 4,
 "nbformat_minor": 4
}
