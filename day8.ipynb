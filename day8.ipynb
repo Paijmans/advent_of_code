{
 "cells": [
  {
   "cell_type": "code",
   "execution_count": 2,
   "metadata": {},
   "outputs": [],
   "source": [
    "import numpy as np\n",
    "import pandas as pd\n",
    "import scipy as sc\n",
    "import re"
   ]
  },
  {
   "cell_type": "markdown",
   "metadata": {},
   "source": [
    "## Day 8\n",
    "What is the value of the iterator after ariving back at the start instruction?"
   ]
  },
  {
   "cell_type": "code",
   "execution_count": 75,
   "metadata": {},
   "outputs": [],
   "source": [
    "file8 = open('day8_input', 'r') \n",
    "input8_lines = file8.readlines()"
   ]
  },
  {
   "cell_type": "code",
   "execution_count": 90,
   "metadata": {},
   "outputs": [],
   "source": [
    "cmd_list = []\n",
    "value_list = []\n",
    "for line in input8_lines:\n",
    "    cmd, value, temp = re.split(r'\\s', line)\n",
    "    cmd_list.append(cmd)\n",
    "    value_list.append(int(value))"
   ]
  },
  {
   "cell_type": "code",
   "execution_count": 91,
   "metadata": {},
   "outputs": [
    {
     "data": {
      "text/plain": [
       "array(['acc', 'jmp', 'nop'], dtype='<U3')"
      ]
     },
     "execution_count": 91,
     "metadata": {},
     "output_type": "execute_result"
    }
   ],
   "source": [
    "np.unique(cmd_list)"
   ]
  },
  {
   "cell_type": "code",
   "execution_count": 125,
   "metadata": {},
   "outputs": [
    {
     "data": {
      "text/plain": [
       "601"
      ]
     },
     "execution_count": 125,
     "metadata": {},
     "output_type": "execute_result"
    }
   ],
   "source": [
    "len(cmd_list)"
   ]
  },
  {
   "cell_type": "code",
   "execution_count": 180,
   "metadata": {},
   "outputs": [],
   "source": [
    "def make_a_move(commands, values, position=0, accumulator=0, path=[]):\n",
    "    \n",
    "    while True:\n",
    "        \n",
    "        path.append(position)\n",
    "        \n",
    "        if cmd_list[position] == 'acc':\n",
    "            accumulator += value_list[position]\n",
    "            position += 1\n",
    "        elif cmd_list[position] == 'jmp':\n",
    "            position += value_list[position]\n",
    "        elif cmd_list[position] == 'nop':\n",
    "            position += 1\n",
    "            \n",
    "        yield position, accumulator\n",
    "        \n",
    "        if position in path:\n",
    "            position=0\n",
    "            accumulator=0\n",
    "            path=[]\n",
    "            break"
   ]
  },
  {
   "cell_type": "code",
   "execution_count": 185,
   "metadata": {},
   "outputs": [
    {
     "name": "stdout",
     "output_type": "stream",
     "text": [
      "1384 593\n"
     ]
    }
   ],
   "source": [
    "trajectory_A = [0]\n",
    "acc_A = [0]\n",
    "for pos, acc in make_a_move(cmd_list, value_list, path=[]):\n",
    "    trajectory_A.append(pos)\n",
    "    acc_A.append(acc)\n",
    "    continue\n",
    "        \n",
    "answer7A = acc\n",
    "print(answer7A, pos)"
   ]
  },
  {
   "cell_type": "markdown",
   "metadata": {},
   "source": [
    "### Part B\n",
    "\n",
    "By only changing one nop -> jmp or jmp -> nop (keeping values unchanged), let position > 600."
   ]
  },
  {
   "cell_type": "code",
   "execution_count": 190,
   "metadata": {},
   "outputs": [],
   "source": [
    "def mod_cmd_list(pos, commands):\n",
    "    \n",
    "    new_commands = commands.copy()\n",
    "    if commands[pos] == 'jmp':\n",
    "        commands[pos] = 'nop'\n",
    "    elif commands[pos] == 'nop':\n",
    "        commands[pos] = 'jmp'\n",
    "        \n",
    "    return new_commands"
   ]
  },
  {
   "cell_type": "code",
   "execution_count": null,
   "metadata": {},
   "outputs": [],
   "source": [
    "for idx, change_pos in enumerate(trajectory_A):\n",
    "    \n",
    "    new_cmd_list = trajectory_A.copy()\n",
    "    if cmd_list[change_pos] == 'acc':\n",
    "        continue\n",
    "    else:\n",
    "        new_cmd_list = mod_cmd_list(change_pos, cmd_list)\n",
    "\n",
    "    old_path = trajectory_A[:idx] + trajectory_A[idx+1:]    \n",
    "    \n",
    "    print(change_pos)\n",
    "    for pos, acc in make_a_move(new_cmd_list, value_list, position=change_pos, accumulator=acc_A[idx], path=old_path):\n",
    "        if pos > 600:\n",
    "            print('bazinga!, position:', pos, ', acc:', acc)\n",
    "            answer7B=acc\n",
    "            break"
   ]
  },
  {
   "cell_type": "code",
   "execution_count": 184,
   "metadata": {},
   "outputs": [
    {
     "data": {
      "text/plain": [
       "[1, 2, 4, 5]"
      ]
     },
     "execution_count": 184,
     "metadata": {},
     "output_type": "execute_result"
    }
   ],
   "source": [
    "a=[1,2,3,4,5]\n",
    "a[:2] + a[3:]"
   ]
  }
 ],
 "metadata": {
  "kernelspec": {
   "display_name": "Python 3",
   "language": "python",
   "name": "python3"
  },
  "language_info": {
   "codemirror_mode": {
    "name": "ipython",
    "version": 3
   },
   "file_extension": ".py",
   "mimetype": "text/x-python",
   "name": "python",
   "nbconvert_exporter": "python",
   "pygments_lexer": "ipython3",
   "version": "3.8.5"
  }
 },
 "nbformat": 4,
 "nbformat_minor": 4
}
