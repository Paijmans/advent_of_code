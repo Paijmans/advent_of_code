{
 "cells": [
  {
   "cell_type": "code",
   "execution_count": 2,
   "metadata": {},
   "outputs": [],
   "source": [
    "import numpy as np\n",
    "import pandas as pd\n",
    "import scipy as sc\n",
    "import re"
   ]
  },
  {
   "cell_type": "markdown",
   "metadata": {},
   "source": [
    "## Day 9"
   ]
  },
  {
   "cell_type": "code",
   "execution_count": 17,
   "metadata": {},
   "outputs": [
    {
     "data": {
      "text/plain": [
       "1000"
      ]
     },
     "execution_count": 17,
     "metadata": {},
     "output_type": "execute_result"
    }
   ],
   "source": [
    "input9 = pd.read_csv('day9_input', header=None).values.astype(int).flatten()\n",
    "len(input9)"
   ]
  },
  {
   "cell_type": "markdown",
   "metadata": {},
   "source": [
    "### Part A"
   ]
  },
  {
   "cell_type": "code",
   "execution_count": 43,
   "metadata": {},
   "outputs": [],
   "source": [
    "def check_validity(values, start_pos=25):\n",
    "    \n",
    "    pos = start_pos\n",
    "    \n",
    "    while True:\n",
    "        check_values = values[pos-25:pos].reshape(-1,1)\n",
    "        M = check_values + check_values.T\n",
    "        M_validity = (M==values[pos]).any()\n",
    "        \n",
    "        yield M_validity, pos\n",
    "        \n",
    "        if not M_validity:\n",
    "            break\n",
    "        pos += 1"
   ]
  },
  {
   "cell_type": "code",
   "execution_count": 44,
   "metadata": {},
   "outputs": [
    {
     "name": "stdout",
     "output_type": "stream",
     "text": [
      "32321523\n"
     ]
    }
   ],
   "source": [
    "for valid_nbr, pos in check_validity(input9):\n",
    "    continue\n",
    "\n",
    "answer9A = input9[pos]\n",
    "print(answer9A)"
   ]
  },
  {
   "cell_type": "markdown",
   "metadata": {},
   "source": [
    "### Part B\n",
    "\n",
    "Find a set of consecutive numbers from the input list that add up to the answer found in part A.\n",
    "This subset has two variables: position and length.\n",
    "Find these two variables through brute force calculation."
   ]
  },
  {
   "cell_type": "code",
   "execution_count": 98,
   "metadata": {},
   "outputs": [
    {
     "name": "stdout",
     "output_type": "stream",
     "text": [
      "1145730 3649251 17 answer9B: 4794981\n"
     ]
    }
   ],
   "source": [
    "max_offset = 500\n",
    "\n",
    "for array_length in range(1, 450):\n",
    "\n",
    "    # Create array of length array_length.\n",
    "    array_base   = np.array(list(range(0, array_length))).astype(np.int)\n",
    "    # Create array of possible offsets.\n",
    "    array_offset = np.array(list(range(0, max_offset-array_length))).reshape(-1,1)\n",
    "    # Create matrix of all possible positions with array lenghth and all offsets.\n",
    "    possible_positions = array_offset + array_base.T\n",
    "\n",
    "    # When the sum of any of the arrays equals the answer, give result.\n",
    "    if (input9[possible_positions].sum(axis=1) == answer9A).any():\n",
    "        \n",
    "        bazinga_idx = np.where(input9[possible_positions].sum(axis=1) == answer9A)[0]\n",
    "        \n",
    "        bazinga_range = input9[possible_positions[bazinga_idx]]\n",
    "        print(bazinga_range.min(), bazinga_range.max(), array_length, 'answer9B:', bazinga_range.min()+bazinga_range.max())\n",
    "        \n",
    "        break"
   ]
  }
 ],
 "metadata": {
  "kernelspec": {
   "display_name": "Python 3",
   "language": "python",
   "name": "python3"
  },
  "language_info": {
   "codemirror_mode": {
    "name": "ipython",
    "version": 3
   },
   "file_extension": ".py",
   "mimetype": "text/x-python",
   "name": "python",
   "nbconvert_exporter": "python",
   "pygments_lexer": "ipython3",
   "version": "3.8.5"
  }
 },
 "nbformat": 4,
 "nbformat_minor": 4
}
