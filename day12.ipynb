{
 "cells": [
  {
   "cell_type": "code",
   "execution_count": 2,
   "metadata": {},
   "outputs": [],
   "source": [
    "import numpy as np\n",
    "import pandas as pd\n",
    "import scipy as sc\n",
    "import re"
   ]
  },
  {
   "cell_type": "markdown",
   "metadata": {},
   "source": [
    "## Day 12"
   ]
  },
  {
   "cell_type": "code",
   "execution_count": 9,
   "metadata": {},
   "outputs": [],
   "source": [
    "file11 = open('day12_input', 'r') \n",
    "input11_lines = file11.readlines()\n",
    "\n",
    "cmd_list = []\n",
    "value_list = []\n",
    "for line in input11_lines:\n",
    "    \n",
    "    line = line.replace('\\n', '')\n",
    "    cmd_list.append(line[0])\n",
    "    value_list.append(int(line[1:]))\n",
    "    \n",
    "value_list = np.array(value_list)\n",
    "cmd_list = np.array(cmd_list)"
   ]
  },
  {
   "cell_type": "code",
   "execution_count": 10,
   "metadata": {},
   "outputs": [
    {
     "data": {
      "text/plain": [
       "array(['E', 'F', 'L', 'N', 'R', 'S', 'W'], dtype='<U1')"
      ]
     },
     "execution_count": 10,
     "metadata": {},
     "output_type": "execute_result"
    }
   ],
   "source": [
    "np.unique(cmd_list)"
   ]
  },
  {
   "cell_type": "markdown",
   "metadata": {},
   "source": [
    "### Part A"
   ]
  },
  {
   "cell_type": "code",
   "execution_count": 67,
   "metadata": {},
   "outputs": [
    {
     "name": "stdout",
     "output_type": "stream",
     "text": [
      "57 -100\n",
      "1603\n"
     ]
    }
   ],
   "source": [
    "x_pos = (value_list[cmd_list == 'E']).sum() - (value_list[cmd_list == 'W']).sum()\n",
    "y_pos = (value_list[cmd_list == 'N']).sum() - (value_list[cmd_list == 'S']).sum()\n",
    "\n",
    "print(x_pos, y_pos)\n",
    "\n",
    "ship_direction = 0\n",
    "for cmd, value in zip(cmd_list, value_list):\n",
    "    \n",
    "    if   cmd == 'L':\n",
    "        ship_direction += (value/90 * np.pi/2)\n",
    "    elif cmd == 'R':\n",
    "        ship_direction -= (value/90 * np.pi/2)\n",
    "    elif cmd == 'F':\n",
    "        x_pos += value * int(np.cos(ship_direction))\n",
    "        y_pos += value * int(np.sin(ship_direction))\n",
    "        \n",
    "    #print(ship_direction/np.pi)\n",
    "answer12A = abs(x_pos) + abs(y_pos)\n",
    "print(answer12A)"
   ]
  },
  {
   "cell_type": "markdown",
   "metadata": {},
   "source": [
    "### Part B"
   ]
  },
  {
   "cell_type": "code",
   "execution_count": 81,
   "metadata": {},
   "outputs": [],
   "source": [
    "def waypoint_rotate(rotate_angle, direction, x_pos, y_pos):\n",
    "    \"\"\" Rotate the ship dorection by 90 degrees in [counter]clockwize direction \n",
    "    [1,0]->[0,-1]->[-1,0]->[0,1]\n",
    "    CCW/L: (x,y) -> (-y, x) -> (-x, -y) -> (y, -x)\n",
    "    CW/R : (x,y) -> (y, -x) -> (-x, -y) -> (-y, x)            \n",
    "    \"\"\"\n",
    "    r = int(rotate_angle/90)\n",
    "    if direction == 'R':\n",
    "        d = 1\n",
    "    elif direction == 'L':\n",
    "        d = -1\n",
    "    \n",
    "    for idx in range(r):\n",
    "        \n",
    "        temp  = y_pos\n",
    "        y_pos = -1*d*x_pos\n",
    "        x_pos = d*temp\n",
    "        \n",
    "    return [x_pos, y_pos]"
   ]
  },
  {
   "cell_type": "code",
   "execution_count": 84,
   "metadata": {},
   "outputs": [
    {
     "name": "stdout",
     "output_type": "stream",
     "text": [
      "52866\n"
     ]
    }
   ],
   "source": [
    "way_x_pos = 10\n",
    "way_y_pos = 1\n",
    "way_direction = 0 \n",
    "\n",
    "ship_x_pos = 0\n",
    "ship_y_pos = 0\n",
    "for cmd, value in zip(cmd_list, value_list):\n",
    "    \n",
    "    if cmd == 'N':\n",
    "        way_y_pos += value\n",
    "    elif cmd == 'S':\n",
    "        way_y_pos -= value\n",
    "    elif cmd == 'E':\n",
    "        way_x_pos += value\n",
    "    elif cmd == 'W':\n",
    "        way_x_pos -= value\n",
    "    elif cmd == 'L' or cmd == 'R':\n",
    "        way_x_pos, way_y_pos = waypoint_rotate(value, cmd, way_x_pos, way_y_pos)\n",
    "    elif cmd == 'F':\n",
    "        ship_x_pos += value * way_x_pos\n",
    "        ship_y_pos += value * way_y_pos\n",
    "        \n",
    "    #print(ship_direction/np.pi)\n",
    "answer12B = abs(ship_x_pos) + abs(ship_y_pos)\n",
    "print(answer12B)"
   ]
  },
  {
   "cell_type": "code",
   "execution_count": 80,
   "metadata": {},
   "outputs": [
    {
     "data": {
      "text/plain": [
       "[-10, -1]"
      ]
     },
     "execution_count": 80,
     "metadata": {},
     "output_type": "execute_result"
    }
   ],
   "source": [
    "waypoint_rotate(180, -1, 10, 1)"
   ]
  }
 ],
 "metadata": {
  "kernelspec": {
   "display_name": "Python 3",
   "language": "python",
   "name": "python3"
  },
  "language_info": {
   "codemirror_mode": {
    "name": "ipython",
    "version": 3
   },
   "file_extension": ".py",
   "mimetype": "text/x-python",
   "name": "python",
   "nbconvert_exporter": "python",
   "pygments_lexer": "ipython3",
   "version": "3.8.5"
  }
 },
 "nbformat": 4,
 "nbformat_minor": 4
}
