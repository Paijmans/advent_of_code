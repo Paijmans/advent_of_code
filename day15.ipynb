{
 "cells": [
  {
   "cell_type": "code",
   "execution_count": 2,
   "metadata": {},
   "outputs": [],
   "source": [
    "import numpy as np\n",
    "import pandas as pd\n",
    "import scipy as sc\n",
    "import re"
   ]
  },
  {
   "cell_type": "markdown",
   "metadata": {},
   "source": [
    "## Day 15"
   ]
  },
  {
   "cell_type": "code",
   "execution_count": 45,
   "metadata": {},
   "outputs": [],
   "source": [
    "puzzle_input = [2,0,1,7,4,14,18]"
   ]
  },
  {
   "cell_type": "markdown",
   "metadata": {},
   "source": [
    "### Part A"
   ]
  },
  {
   "cell_type": "code",
   "execution_count": 46,
   "metadata": {},
   "outputs": [
    {
     "name": "stdout",
     "output_type": "stream",
     "text": [
      "answer 15A: 496 2020\n"
     ]
    }
   ],
   "source": [
    "def idx_of_last_occurance(puzzle, last_idx):\n",
    "    \n",
    "    last = puzzle[last_idx]\n",
    "    \n",
    "    idx  = last_idx - 1\n",
    "    while puzzle[idx] != last:\n",
    "        if idx == 0:\n",
    "            return last_idx\n",
    "        idx -= 1\n",
    "        \n",
    "    return idx\n",
    "\n",
    "\n",
    "puzzle_length = 2020\n",
    "\n",
    "puzzle = puzzle_input + [0]*(puzzle_length - len(puzzle_input))\n",
    "\n",
    "last_idx = len(puzzle_input)-1\n",
    "while last_idx < puzzle_length-1:\n",
    "    puzzle[last_idx+1] = last_idx - idx_of_last_occurance(puzzle, last_idx)\n",
    "    last_idx += 1\n",
    "    \n",
    "answer15A = puzzle[-1]\n",
    "print('answer 15A:', answer15A, len(puzzle))"
   ]
  },
  {
   "cell_type": "markdown",
   "metadata": {},
   "source": [
    "### Part B\n",
    "\n",
    "Same as A, but now for a much longer higher number N. This depends quadratically on N. THerefore, we will use a lookup table: number -> index of last occurance for the first 100 numbers"
   ]
  },
  {
   "cell_type": "code",
   "execution_count": 23,
   "metadata": {},
   "outputs": [],
   "source": [
    "class LookupTable:\n",
    "    \n",
    "    def __init__(self, size):\n",
    "        \n",
    "        self.lookup = [-1]*size\n",
    "        self.size = size\n",
    "        \n",
    "    def get_last_occ_idx(self, n):\n",
    "        if n < self.size:\n",
    "            return self.lookup[n]\n",
    "        else:\n",
    "            return -1\n",
    "        \n",
    "    def set_last_occ_idx(self, n, idx):\n",
    "        if n < self.size:\n",
    "            self.lookup[n] = idx\n",
    "            \n",
    "\n",
    "def idx_of_last_occurance(puzzle, last_idx, lookup):\n",
    "    \n",
    "    last = puzzle[last_idx]\n",
    "    \n",
    "    if lookup.get_last_occ_idx(last):\n",
    "        return idx\n",
    "    \n",
    "    idx  = last_idx - 1\n",
    "    while puzzle[idx] != last:\n",
    "        if idx == 0:\n",
    "            return last_idx\n",
    "        idx -= 1\n",
    "        \n",
    "    return idx"
   ]
  },
  {
   "cell_type": "code",
   "execution_count": 79,
   "metadata": {},
   "outputs": [],
   "source": [
    "puzzle_length = 30000000\n",
    "#puzzle_length = 2020\n",
    "#lookup_size = 100\n",
    "#lookup = LookupTable(lookup_size)\n",
    "value_to_last_index = [0]*puzzle_length\n",
    "for idx, p in enumerate(puzzle_input[:-1]):\n",
    "    value_to_last_index[p] = idx"
   ]
  },
  {
   "cell_type": "code",
   "execution_count": 83,
   "metadata": {},
   "outputs": [
    {
     "name": "stdout",
     "output_type": "stream",
     "text": [
      "last_idx: 1.0\n",
      "last_idx: 2.0\n",
      "last_idx: 3.0\n",
      "last_idx: 4.0\n",
      "last_idx: 5.0\n",
      "last_idx: 6.0\n",
      "last_idx: 7.0\n",
      "last_idx: 8.0\n",
      "last_idx: 9.0\n",
      "last_idx: 10.0\n",
      "last_idx: 11.0\n",
      "last_idx: 12.0\n",
      "last_idx: 13.0\n",
      "last_idx: 14.0\n",
      "last_idx: 15.0\n",
      "last_idx: 16.0\n",
      "last_idx: 17.0\n",
      "last_idx: 18.0\n",
      "last_idx: 19.0\n",
      "last_idx: 20.0\n",
      "last_idx: 21.0\n",
      "last_idx: 22.0\n",
      "last_idx: 23.0\n",
      "last_idx: 24.0\n",
      "last_idx: 25.0\n",
      "last_idx: 26.0\n",
      "last_idx: 27.0\n",
      "last_idx: 28.0\n",
      "last_idx: 29.0\n",
      "\n",
      "answer 15B: 883\n"
     ]
    }
   ],
   "source": [
    "value_to_last_index = [-1]*puzzle_length\n",
    "for idx, p in enumerate(puzzle_input[:-1]):\n",
    "    value_to_last_index[p] = idx\n",
    "\n",
    "last_idx = len(puzzle_input)-1\n",
    "last_val = puzzle_input[-1]\n",
    "prev_val = -1\n",
    "while last_idx < puzzle_length-1:\n",
    "    \n",
    "    #print(last_idx, last_val, prev_val)\n",
    "    \n",
    "    prev_val = last_val\n",
    "    last_occ_idx = value_to_last_index[last_val]\n",
    "    if last_occ_idx == -1:\n",
    "        last_val = 0\n",
    "    else:\n",
    "        last_val = last_idx - last_occ_idx\n",
    "\n",
    "    value_to_last_index[prev_val] = last_idx\n",
    " \n",
    "    last_idx += 1\n",
    "    if last_idx%1000000==0:\n",
    "        print('last_idx:', last_idx/1000000, end='\\n')\n",
    "    \n",
    "answer15B = last_val\n",
    "print('\\nanswer 15B:', answer15B)"
   ]
  },
  {
   "cell_type": "markdown",
   "metadata": {},
   "source": [
    "#### Analysis of occurance of numbers in the puzzle list"
   ]
  },
  {
   "cell_type": "code",
   "execution_count": 8,
   "metadata": {},
   "outputs": [],
   "source": [
    "from collections import Counter\n",
    "d = dict(Counter(puzzle[:last_idx]))"
   ]
  },
  {
   "cell_type": "code",
   "execution_count": 9,
   "metadata": {},
   "outputs": [],
   "source": [
    "sorted_idx = np.argsort(-1*np.array(list(d.values())))\n",
    "sorted_counts = np.array(list(d.values()))[sorted_idx]\n",
    "sorted_values = np.array(list(d.keys()))[sorted_idx]"
   ]
  },
  {
   "cell_type": "code",
   "execution_count": 13,
   "metadata": {},
   "outputs": [
    {
     "data": {
      "text/plain": [
       "array([4928, 1899, 1551, 1096,  910,  737,  719,  371,  328,  298,  255,\n",
       "        244,  237,  222,  209,  200,  163,  158,  147,  146])"
      ]
     },
     "execution_count": 13,
     "metadata": {},
     "output_type": "execute_result"
    }
   ],
   "source": [
    "sorted_counts[:20]"
   ]
  },
  {
   "cell_type": "code",
   "execution_count": 12,
   "metadata": {},
   "outputs": [
    {
     "data": {
      "text/plain": [
       "array([ 0,  5,  6,  7,  1,  4,  8,  9, 11,  2, 12, 18, 10, 19, 13, 14, 17,\n",
       "       16, 15, 20])"
      ]
     },
     "execution_count": 12,
     "metadata": {},
     "output_type": "execute_result"
    }
   ],
   "source": [
    "sorted_values[:20]"
   ]
  },
  {
   "cell_type": "code",
   "execution_count": 15,
   "metadata": {},
   "outputs": [],
   "source": [
    "import matplotlib as mpl\n",
    "import matplotlib.pyplot as plt\n"
   ]
  },
  {
   "cell_type": "code",
   "execution_count": 17,
   "metadata": {},
   "outputs": [
    {
     "data": {
      "text/plain": [
       "[<matplotlib.lines.Line2D at 0x7f6a5339ed90>]"
      ]
     },
     "execution_count": 17,
     "metadata": {},
     "output_type": "execute_result"
    },
    {
     "data": {
      "image/png": "[encoded data removed]",
      "text/plain": [
       "<Figure size 432x288 with 1 Axes>"
      ]
     },
     "metadata": {
      "needs_background": "light"
     },
     "output_type": "display_data"
    }
   ],
   "source": [
    "plt.plot(sorted_counts[:100])"
   ]
  },
  {
   "cell_type": "code",
   "execution_count": 18,
   "metadata": {},
   "outputs": [
    {
     "data": {
      "text/plain": [
       "[<matplotlib.lines.Line2D at 0x7f6a5337eee0>]"
      ]
     },
     "execution_count": 18,
     "metadata": {},
     "output_type": "execute_result"
    },
    {
     "data": {
      "image/png": "[encoded data removed]",
      "text/plain": [
       "<Figure size 432x288 with 1 Axes>"
      ]
     },
     "metadata": {
      "needs_background": "light"
     },
     "output_type": "display_data"
    }
   ],
   "source": [
    "plt.plot(sorted_values[:100], sorted_counts[:100])"
   ]
  }
 ],
 "metadata": {
  "kernelspec": {
   "display_name": "Python 3",
   "language": "python",
   "name": "python3"
  },
  "language_info": {
   "codemirror_mode": {
    "name": "ipython",
    "version": 3
   },
   "file_extension": ".py",
   "mimetype": "text/x-python",
   "name": "python",
   "nbconvert_exporter": "python",
   "pygments_lexer": "ipython3",
   "version": "3.8.5"
  }
 },
 "nbformat": 4,
 "nbformat_minor": 4
}
