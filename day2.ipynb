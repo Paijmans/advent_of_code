{
 "cells": [
  {
   "cell_type": "code",
   "execution_count": 2,
   "metadata": {},
   "outputs": [],
   "source": [
    "import numpy as np\n",
    "import pandas as pd\n",
    "import scipy as sc\n",
    "import re"
   ]
  },
  {
   "cell_type": "markdown",
   "metadata": {},
   "source": [
    "## Day 2"
   ]
  },
  {
   "cell_type": "code",
   "execution_count": 2,
   "metadata": {},
   "outputs": [
    {
     "data": {
      "text/plain": [
       "cond1    object\n",
       "cond2    object\n",
       "pwd      object\n",
       "dtype: object"
      ]
     },
     "execution_count": 2,
     "metadata": {},
     "output_type": "execute_result"
    }
   ],
   "source": [
    "data = pd.read_csv('./day2_input', sep=' ', header=None)\n",
    "data.columns = ['cond1','cond2','pwd']\n",
    "data.dtypes"
   ]
  },
  {
   "cell_type": "markdown",
   "metadata": {},
   "source": [
    "### Part A"
   ]
  },
  {
   "cell_type": "code",
   "execution_count": 76,
   "metadata": {},
   "outputs": [],
   "source": [
    "def conv_to_oneint(s1s2, first=True):\n",
    "    s1, s2 = s1s2.split('-')\n",
    "    \n",
    "    if first:\n",
    "        return int(s1)\n",
    "    else:\n",
    "        return int(s2)\n",
    "\n",
    "data['cond_min'] = data['cond1'].apply(lambda x: conv_to_oneint(x, True) )\n",
    "data['cond_max'] = data['cond1'].apply(lambda x: conv_to_oneint(x, False) )\n",
    "\n",
    "data['cond_char'] = data['cond2'].apply(lambda x: x[0])"
   ]
  },
  {
   "cell_type": "code",
   "execution_count": 77,
   "metadata": {},
   "outputs": [],
   "source": [
    "data['cond_char_cnt'] = data[['cond_char', 'pwd']].apply(lambda x: x[1].count(x[0]), axis=1)"
   ]
  },
  {
   "cell_type": "code",
   "execution_count": 85,
   "metadata": {},
   "outputs": [],
   "source": [
    "data['valid_pwd'] = data[['cond_min', 'cond_max', 'cond_char_cnt']].apply(lambda x: x[2] >= x[0] and x[2] <= x[1], axis=1)"
   ]
  },
  {
   "cell_type": "code",
   "execution_count": 86,
   "metadata": {},
   "outputs": [
    {
     "data": {
      "text/plain": [
       "666"
      ]
     },
     "execution_count": 86,
     "metadata": {},
     "output_type": "execute_result"
    }
   ],
   "source": [
    "answer2A=data['valid_pwd'].sum()"
   ]
  },
  {
   "cell_type": "markdown",
   "metadata": {},
   "source": [
    "### Part B"
   ]
  },
  {
   "cell_type": "code",
   "execution_count": 112,
   "metadata": {},
   "outputs": [],
   "source": [
    "data['pos1'] = data['cond_min'] - 1\n",
    "data['pos2'] = data['cond_max'] - 1\n",
    "\n",
    "data['check_pos1'] = data['pos1'] < len(data['pwd'])\n",
    "data['check_pos2'] = data['pos2'] < len(data['pwd'])"
   ]
  },
  {
   "cell_type": "code",
   "execution_count": 113,
   "metadata": {},
   "outputs": [
    {
     "data": {
      "text/plain": [
       "1000"
      ]
     },
     "execution_count": 113,
     "metadata": {},
     "output_type": "execute_result"
    }
   ],
   "source": [
    "data['check_pos2'].sum()"
   ]
  },
  {
   "cell_type": "code",
   "execution_count": 114,
   "metadata": {},
   "outputs": [],
   "source": [
    "data['valid_pwd_2'] = data.apply(lambda x: (x['pwd'][x['pos1']] == x['cond_char']) != (x['pwd'][x['pos2']] == x['cond_char']), axis=1 )"
   ]
  },
  {
   "cell_type": "code",
   "execution_count": 115,
   "metadata": {},
   "outputs": [
    {
     "data": {
      "text/plain": [
       "670"
      ]
     },
     "execution_count": 115,
     "metadata": {},
     "output_type": "execute_result"
    }
   ],
   "source": [
    "answer2B=data['valid_pwd_2'].sum()\n",
    "print(answer2B)"
   ]
  }
 ],
 "metadata": {
  "kernelspec": {
   "display_name": "Python 3",
   "language": "python",
   "name": "python3"
  },
  "language_info": {
   "codemirror_mode": {
    "name": "ipython",
    "version": 3
   },
   "file_extension": ".py",
   "mimetype": "text/x-python",
   "name": "python",
   "nbconvert_exporter": "python",
   "pygments_lexer": "ipython3",
   "version": "3.8.5"
  }
 },
 "nbformat": 4,
 "nbformat_minor": 4
}
