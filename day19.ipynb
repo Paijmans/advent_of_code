{
 "cells": [
  {
   "cell_type": "code",
   "execution_count": 1,
   "metadata": {},
   "outputs": [],
   "source": [
    "import numpy as np\n",
    "import pandas as pd\n",
    "import re\n",
    "import scipy as sc"
   ]
  },
  {
   "cell_type": "markdown",
   "metadata": {},
   "source": [
    "## Day 19"
   ]
  },
  {
   "cell_type": "code",
   "execution_count": 4,
   "metadata": {},
   "outputs": [],
   "source": [
    "file19 = open('./input_files/day19_input', 'r') \n",
    "input19_lines = file19.readlines() "
   ]
  },
  {
   "cell_type": "code",
   "execution_count": 5,
   "metadata": {},
   "outputs": [],
   "source": [
    "def split_rules(rules):\n",
    "        \n",
    "    if '\"a\"' in rules:\n",
    "        return ['a']\n",
    "    elif '\"b\"' in rules:\n",
    "        return ['b']\n",
    "    else:\n",
    "        rules_idx = re.findall(r'\\d+', rules)\n",
    "        return [int(r) for r in rules_idx]"
   ]
  },
  {
   "cell_type": "code",
   "execution_count": 6,
   "metadata": {},
   "outputs": [
    {
     "ename": "NameError",
     "evalue": "name 'rule_nbr' is not defined",
     "output_type": "error",
     "traceback": [
      "\u001b[0;31m---------------------------------------------------------------------------\u001b[0m",
      "\u001b[0;31mNameError\u001b[0m                                 Traceback (most recent call last)",
      "\u001b[0;32m<ipython-input-6-d2638a0e16af>\u001b[0m in \u001b[0;36m<module>\u001b[0;34m\u001b[0m\n\u001b[1;32m      6\u001b[0m     \u001b[0mnbr\u001b[0m\u001b[0;34m,\u001b[0m \u001b[0mrules\u001b[0m \u001b[0;34m=\u001b[0m \u001b[0mline\u001b[0m\u001b[0;34m.\u001b[0m\u001b[0msplit\u001b[0m\u001b[0;34m(\u001b[0m\u001b[0;34m':'\u001b[0m\u001b[0;34m)\u001b[0m\u001b[0;34m\u001b[0m\u001b[0;34m\u001b[0m\u001b[0m\n\u001b[1;32m      7\u001b[0m \u001b[0;34m\u001b[0m\u001b[0m\n\u001b[0;32m----> 8\u001b[0;31m     \u001b[0mrule_nbr\u001b[0m \u001b[0;34m+=\u001b[0m \u001b[0;34m[\u001b[0m\u001b[0mint\u001b[0m\u001b[0;34m(\u001b[0m\u001b[0mnbr\u001b[0m\u001b[0;34m)\u001b[0m\u001b[0;34m]\u001b[0m\u001b[0;34m\u001b[0m\u001b[0;34m\u001b[0m\u001b[0m\n\u001b[0m\u001b[1;32m      9\u001b[0m \u001b[0;34m\u001b[0m\u001b[0m\n\u001b[1;32m     10\u001b[0m     \u001b[0;32mif\u001b[0m \u001b[0;34m'|'\u001b[0m \u001b[0;32min\u001b[0m \u001b[0mrules\u001b[0m\u001b[0;34m:\u001b[0m\u001b[0;34m\u001b[0m\u001b[0;34m\u001b[0m\u001b[0m\n",
      "\u001b[0;31mNameError\u001b[0m: name 'rule_nbr' is not defined"
     ]
    }
   ],
   "source": [
    "rules_nbr = []\n",
    "rules_list = []\n",
    "for line in input19_lines[:131]:\n",
    "    \n",
    "    line = line.replace('\\n', '')\n",
    "    nbr, rules = line.split(':')\n",
    "\n",
    "    rule_nbr += [int(nbr)]\n",
    "    \n",
    "    if '|' in rules:\n",
    "        rules_split = rules.split('|')\n",
    "    else:\n",
    "        rules_split = [rules]\n",
    "    \n",
    "    rl_list = []\n",
    "    for rl in rules_split:\n",
    "        rl_list += [split_rules(rl)]\n",
    "    \n",
    "    rules_list += [rl_list]\n",
    "    \n",
    "rule_nbr   = np.array(rule_nbr)\n",
    "sorted_idx = np.argsort(rule_nbr)\n",
    "\n",
    "rules_list = [rules_list[idx] for idx in sorted_idx]"
   ]
  },
  {
   "cell_type": "code",
   "execution_count": 85,
   "metadata": {},
   "outputs": [
    {
     "name": "stdout",
     "output_type": "stream",
     "text": [
      "[[8, 11]]\n",
      "[[110, 27], [92, 34]]\n",
      "[[71, 92], [20, 110]]\n",
      "[[110, 110]]\n",
      "[[48, 110], [30, 92]]\n"
     ]
    }
   ],
   "source": [
    "for a in rules_list[:5]:\n",
    "    print(a)"
   ]
  },
  {
   "cell_type": "code",
   "execution_count": 87,
   "metadata": {},
   "outputs": [
    {
     "data": {
      "text/plain": [
       "[['a']]"
      ]
     },
     "execution_count": 87,
     "metadata": {},
     "output_type": "execute_result"
    }
   ],
   "source": [
    "rules_list[110]"
   ]
  },
  {
   "cell_type": "code",
   "execution_count": null,
   "metadata": {},
   "outputs": [],
   "source": [
    "def subst_rule(rules, rules_table):\n",
    "    \n",
    "    if len(rules) > 1:\n",
    "        for sub_rules in rules:\n",
    "            subst_rule(sub_rules)\n",
    "    else:\n",
    "        for sub_rule in rules:\n",
    "            rules_table[sub_rule]\n",
    "        \n",
    "        \n",
    "    \n",
    "    "
   ]
  }
 ],
 "metadata": {
  "kernelspec": {
   "display_name": "Python 3",
   "language": "python",
   "name": "python3"
  },
  "language_info": {
   "codemirror_mode": {
    "name": "ipython",
    "version": 3
   },
   "file_extension": ".py",
   "mimetype": "text/x-python",
   "name": "python",
   "nbconvert_exporter": "python",
   "pygments_lexer": "ipython3",
   "version": "3.8.5"
  }
 },
 "nbformat": 4,
 "nbformat_minor": 4
}
