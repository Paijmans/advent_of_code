{
 "cells": [
  {
   "cell_type": "code",
   "execution_count": 1,
   "metadata": {},
   "outputs": [],
   "source": [
    "import numpy as np\n",
    "import pandas as pd\n",
    "import scipy as sc\n",
    "import re"
   ]
  },
  {
   "cell_type": "markdown",
   "metadata": {},
   "source": [
    "## Day 20"
   ]
  },
  {
   "cell_type": "code",
   "execution_count": 2,
   "metadata": {},
   "outputs": [],
   "source": [
    "file20 = open('./input_files/day20_input', 'r') \n",
    "input20_lines = file20.readlines() "
   ]
  },
  {
   "cell_type": "code",
   "execution_count": 3,
   "metadata": {},
   "outputs": [
    {
     "name": "stdout",
     "output_type": "stream",
     "text": [
      "144\n"
     ]
    }
   ],
   "source": [
    "jigsaw_pieces = [input20_lines[x:x+12] for x in range(0, len(input20_lines), 12)]\n",
    "\n",
    "pieces_id = []\n",
    "images = []\n",
    "for piece in jigsaw_pieces:\n",
    "    \n",
    "    pieces_id.append(int(re.findall(r'\\d+', piece[0])[0]))\n",
    "    \n",
    "    image = []\n",
    "    for ss in piece[1:-1]:\n",
    "        ss = ss.replace('\\n','').replace('.', '0').replace('#', '1')\n",
    "        pixel_line = [int(s) for s in ss]\n",
    "        image.append(pixel_line)\n",
    "     \n",
    "    images.append(np.array(image))\n",
    "    \n",
    "print(len(images))"
   ]
  },
  {
   "cell_type": "markdown",
   "metadata": {},
   "source": [
    "### Part A"
   ]
  },
  {
   "cell_type": "code",
   "execution_count": 4,
   "metadata": {},
   "outputs": [],
   "source": [
    "def rotate_n_times(img, times=1):\n",
    "    \"\"\" Rotate image 90 degrees in ccw direction n times. \"\"\"    \n",
    "    times = times%4\n",
    "    if times == 1:\n",
    "        return np.flip(images[0].T, 0)\n",
    "    elif times == 3:\n",
    "        return np.flip(images[0], 0).T\n",
    "    elif times == 2:\n",
    "        return flip_hor(flip_vert(img))\n",
    "    else:\n",
    "        return img.copy()\n",
    "\n",
    "    \n",
    "def unity(img):\n",
    "    return rotate_n_times(img, 0)\n",
    "    \n",
    "    \n",
    "def rotate_90(img):\n",
    "    return rotate_n_times(img, 1)\n",
    "\n",
    "\n",
    "def rotate_180(img):\n",
    "    return rotate_n_times(img, 2)\n",
    "\n",
    "\n",
    "def rotate_270(img):\n",
    "    return rotate_n_times(img, 3)\n",
    "\n",
    "    \n",
    "def flip_hor(img):\n",
    "    \"\"\" Flip along horizontal axis. \"\"\"\n",
    "    return np.flip(img, 0)\n",
    "\n",
    "\n",
    "def flip_vert(img):\n",
    "    \"\"\" Flip along vertical axis. \"\"\"\n",
    "    return np.flip(img, 1)\n",
    "\n",
    "\n",
    "def match_imgs(img1, img2):\n",
    "    \"\"\" Check whether img2 can match with one of the img1 sides by translation only. \n",
    "    Returns positive int 1-4 if match:\n",
    "          1\n",
    "        -----\n",
    "        |   |\n",
    "      4 |img| 2\n",
    "        | 1 | \n",
    "        -----\n",
    "          3\n",
    "  \n",
    "    and -1 if there is no match.\n",
    "    \"\"\"\n",
    "    sides_matched = np.array([False]*4)\n",
    "        \n",
    "    # Check side 1\n",
    "    sides_matched[0] = (img1[0] == img2[0]).all()\n",
    "    # Check side 2\n",
    "    sides_matched[1] = (img1.T[0] == img2.T[0]).all()\n",
    "    # Check side 3\n",
    "    sides_matched[2] = (img1.T[-1] == img2.T[-1]).all()\n",
    "    # Check side 4\n",
    "    sides_matched[3] = (img1[0] == img2[0]).all()\n",
    "           \n",
    "    return sides_matched"
   ]
  },
  {
   "cell_type": "code",
   "execution_count": 103,
   "metadata": {},
   "outputs": [
    {
     "ename": "NameError",
     "evalue": "name 'size' is not defined",
     "output_type": "error",
     "traceback": [
      "\u001b[0;31m---------------------------------------------------------------------------\u001b[0m",
      "\u001b[0;31mNameError\u001b[0m                                 Traceback (most recent call last)",
      "\u001b[0;32m<ipython-input-103-110846e243bf>\u001b[0m in \u001b[0;36m<module>\u001b[0;34m\u001b[0m\n\u001b[0;32m----> 1\u001b[0;31m \u001b[0msize\u001b[0m\u001b[0;34m(\u001b[0m\u001b[0mmatches\u001b[0m\u001b[0;34m)\u001b[0m\u001b[0;34m\u001b[0m\u001b[0;34m\u001b[0m\u001b[0m\n\u001b[0m",
      "\u001b[0;31mNameError\u001b[0m: name 'size' is not defined"
     ]
    }
   ],
   "source": [
    "size(matches)"
   ]
  },
  {
   "cell_type": "code",
   "execution_count": 100,
   "metadata": {},
   "outputs": [
    {
     "ename": "IndexError",
     "evalue": "list assignment index out of range",
     "output_type": "error",
     "traceback": [
      "\u001b[0;31m---------------------------------------------------------------------------\u001b[0m",
      "\u001b[0;31mIndexError\u001b[0m                                Traceback (most recent call last)",
      "\u001b[0;32m<ipython-input-100-1c2d7aa7083b>\u001b[0m in \u001b[0;36m<module>\u001b[0;34m\u001b[0m\n\u001b[1;32m     10\u001b[0m         \u001b[0mimg1_img2_side_match\u001b[0m \u001b[0;34m=\u001b[0m \u001b[0;34m[\u001b[0m\u001b[0mmatch_imgs\u001b[0m\u001b[0;34m(\u001b[0m\u001b[0mimg1\u001b[0m\u001b[0;34m,\u001b[0m \u001b[0mimg2_tr\u001b[0m\u001b[0;34m)\u001b[0m \u001b[0;32mfor\u001b[0m \u001b[0mimg2_tr\u001b[0m \u001b[0;32min\u001b[0m \u001b[0mimg2_transformations\u001b[0m\u001b[0;34m]\u001b[0m\u001b[0;34m\u001b[0m\u001b[0;34m\u001b[0m\u001b[0m\n\u001b[1;32m     11\u001b[0m \u001b[0;34m\u001b[0m\u001b[0m\n\u001b[0;32m---> 12\u001b[0;31m         \u001b[0mmatches\u001b[0m\u001b[0;34m[\u001b[0m\u001b[0midx1\u001b[0m\u001b[0;34m]\u001b[0m\u001b[0;34m[\u001b[0m\u001b[0midx2\u001b[0m\u001b[0;34m]\u001b[0m \u001b[0;34m=\u001b[0m \u001b[0mimg1_img2_side_match\u001b[0m\u001b[0;34m\u001b[0m\u001b[0;34m\u001b[0m\u001b[0m\n\u001b[0m",
      "\u001b[0;31mIndexError\u001b[0m: list assignment index out of range"
     ]
    }
   ],
   "source": [
    "\n",
    "matches = [[]*len(images)]*len(images)\n",
    "\n",
    "for idx1, img1 in enumerate(images):\n",
    "    for idx2, img2 in enumerate(images):\n",
    "        if idx2 <= idx1:\n",
    "            continue\n",
    "        \n",
    "        img2_transformations = [transf(img2) for transf in transformations]\n",
    "         \n",
    "        img1_img2_side_match = [match_imgs(img1, img2_tr) for img2_tr in img2_transformations]\n",
    "        \n",
    "        matches[idx1][idx2] = img1_img2_side_match"
   ]
  },
  {
   "cell_type": "code",
   "execution_count": 95,
   "metadata": {},
   "outputs": [],
   "source": [
    "transformations = [unity, flip_hor, flip_vert, rotate_90, rotate_180, rotate_270]\n",
    "\n",
    "all_img_transf = []\n",
    "for img in images[:2]:\n",
    "    img_transformations = [transf(img) for transf in transformations]\n",
    "    all_img_transf.append(img_transformations)\n",
    "    \n",
    "all_img_transf = np.array(all_img_transf).reshape(-1,10,10)\n",
    "\n",
    "all_bdry_transf = [np.array(list(img_tr[0])[:-1] + list(img_tr.T[-1])[:-1] + list(img_tr[-1])[:-1] + list(img_tr.T[0])[:-1]) for img_tr in all_img_transf]\n",
    "all_bdry_transf = np.array(all_bdry_transf)"
   ]
  },
  {
   "cell_type": "code",
   "execution_count": 91,
   "metadata": {},
   "outputs": [],
   "source": [
    "all_bdry_transfT = all_bdry_transf.reshape(-1, 1, 36)\n",
    "eq_elements = (all_bdry_transf == all_bdry_transfT)\n",
    "eq_images   = np.all(eq_elements, axis=(2))"
   ]
  },
  {
   "cell_type": "code",
   "execution_count": 94,
   "metadata": {},
   "outputs": [
    {
     "data": {
      "text/plain": [
       "array([[1, 0, 0, 0, 1, 0, 0, 0, 1, 1],\n",
       "       [0, 0, 0, 0, 0, 1, 0, 0, 0, 0],\n",
       "       [0, 0, 0, 0, 1, 0, 0, 0, 0, 0],\n",
       "       [0, 0, 0, 0, 1, 0, 0, 0, 0, 0],\n",
       "       [0, 0, 0, 0, 0, 1, 1, 0, 0, 0],\n",
       "       [0, 0, 0, 0, 0, 0, 0, 1, 0, 1],\n",
       "       [1, 0, 0, 0, 0, 0, 0, 0, 1, 1],\n",
       "       [0, 0, 1, 0, 0, 1, 0, 0, 0, 0],\n",
       "       [1, 0, 1, 0, 1, 0, 0, 0, 0, 1],\n",
       "       [1, 1, 1, 0, 1, 1, 0, 1, 0, 1]])"
      ]
     },
     "execution_count": 94,
     "metadata": {},
     "output_type": "execute_result"
    }
   ],
   "source": [
    "images[0]"
   ]
  },
  {
   "cell_type": "code",
   "execution_count": 93,
   "metadata": {},
   "outputs": [
    {
     "name": "stdout",
     "output_type": "stream",
     "text": [
      "[[ True False False False False False False False False False False False]\n",
      " [False  True False False False False False False False False False False]\n",
      " [False False  True False False False False False False False False False]\n",
      " [False False False  True False False False False False  True False False]\n",
      " [False False False False  True False False False False False False False]\n",
      " [False False False False False  True False False False False False  True]\n",
      " [False False False False False False  True False False False False False]\n",
      " [False False False False False False False  True False False False False]\n",
      " [False False False False False False False False  True False False False]\n",
      " [False False False  True False False False False False  True False False]\n",
      " [False False False False False False False False False False  True False]\n",
      " [False False False False False  True False False False False False  True]]\n"
     ]
    }
   ],
   "source": [
    "print(eq_images)"
   ]
  },
  {
   "cell_type": "code",
   "execution_count": null,
   "metadata": {},
   "outputs": [],
   "source": [
    "transformations = [unity, flip_hor, flip_vert, rotate_90, rotate_180, rotate_270]\n",
    "\n",
    "images_match_matrix = np.zeros((len(images), len(images))).astype(int)\n",
    "\n",
    "### Fil the box with a pieces of the puzzle. \n",
    "## Stategy: Take out one by one and try to fit them.\n",
    "\n",
    "# List of pieces still in the box.\n",
    "pieces_box = list(zip(pieces_id, images))\n",
    "\n",
    "# List of pieces in the table with correct orientation.\n",
    "pieces_\n",
    "\n",
    "# Dict that stores the neighbor ids of each piece.\n",
    "connections = dict(zip(pieces_id, [[0,0,0,0]]*len(pieces_box)))\n",
    "\n",
    "while len(images_and_id) > 0:\n",
    "    \n",
    "    # Take a new piece from the box.\n",
    "    img1_id, img1 = pieces_box.pop()\n",
    "    \n",
    "    # Check which pieces still in the box would fit this one.\n",
    "    for idx2, img2 in enumerate(images):\n",
    "        if idx2 <= idx1:\n",
    "            continue\n",
    "        \n",
    "        img2_transformations = [transf(img2) for transf in transformations]\n",
    "         \n",
    "        img1_img2_matches = [match_imgs(img1, img2_tr) for img2_tr in img2_transformations]\n",
    "         \n",
    "        print(sum(sum(img1_img2_matches)))\n",
    "        images_match_matrix[idx1, idx2] = sum(sum(img1_img2_matches))"
   ]
  },
  {
   "cell_type": "code",
   "execution_count": null,
   "metadata": {},
   "outputs": [],
   "source": [
    "images_match_matrix.max()"
   ]
  },
  {
   "cell_type": "code",
   "execution_count": null,
   "metadata": {},
   "outputs": [],
   "source": [
    "match_imgs(*images[:2])"
   ]
  },
  {
   "cell_type": "markdown",
   "metadata": {},
   "source": [
    "#### Fancy Appoach: convert sides to decimal numbers."
   ]
  },
  {
   "cell_type": "code",
   "execution_count": null,
   "metadata": {},
   "outputs": [],
   "source": [
    "### Convert image 4 sides to 4 decimal numbers:\n",
    "#          1\n",
    "#        -----\n",
    "#        |   |\n",
    "#      4 |img| 2\n",
    "#        |   | \n",
    "#        -----\n",
    "#          3\n",
    "def bin_array_to_dec(arr):\n",
    "    \n",
    "    return int(''.join([str(d) for d in arr]), 2)\n",
    "\n",
    "\n",
    "def create_bin_inverted_numbers():\n",
    "        dec_to_inv_dev = [0]*1024\n",
    "\n",
    "        for d_dec in range(1024):\n",
    "            d_bin = bin(d_dec)[2:]\n",
    "            d_bin = '0'*(10 - len(d_bin)) + d_bin\n",
    "            d_dec_inv = int(d_bin[::-1], 2)\n",
    "\n",
    "            dec_to_inv_dev[d_dec] = d_dec_inv\n",
    "            #print(d_dec, '\\t', d_bin, '\\t', d_dec_inv)\n",
    "            \n",
    "        return dec_to_inv_dev\n",
    "    \n",
    "\n",
    "images_sides_id = []\n",
    "for img in images:\n",
    "    \n",
    "    sides_id =  [0]*4\n",
    "    \n",
    "    sides_id[0] = bin_array_to_dec(img[0])\n",
    "    sides_id[1] = bin_array_to_dec(img.T[-1])\n",
    "    sides_id[2] = bin_array_to_dec(img[-1])\n",
    "    sides_id[3] = bin_array_to_dec(img.T[0])\n",
    "    images_sides_id.append(sides_id)\n",
    "    \n",
    "images_sides_id = np.array(images_sides_id)"
   ]
  },
  {
   "cell_type": "code",
   "execution_count": null,
   "metadata": {},
   "outputs": [],
   "source": [
    "def unity(sides_id):\n",
    "    return sides_id.copy()\n",
    "    \n",
    "    \n",
    "def rotate_90(sides_id):\n",
    "    return np.array([sides_id[3], sides_id[0], sides_id[1], sides_id[2]])\n",
    "\n",
    "\n",
    "def rotate_180(sides_id):\n",
    "    return np.array([sides_id[2], sides_id[3], sides_id[0], sides_id[1]])\n",
    "\n",
    "\n",
    "def rotate_270(sides_id):\n",
    "    return np.array([sides_id[1], sides_id[2], sides_id[3], sides_id[0]])\n",
    "\n",
    "    \n",
    "def flip_hor(sides_id):\n",
    "    \"\"\" Flip along horizontal axis. \"\"\"\n",
    "    return np.array([sides_id[2], sides_id[1], sides_id[0], sides_id[0]])\n",
    "\n",
    "\n",
    "def flip_vert(sides_id):\n",
    "    \"\"\" Flip along vertical axis. \"\"\"\n",
    "    return np.flip(img, 1)\n",
    "\n",
    "\n",
    "def match_imgs(sides_id1, sides_id2):\n",
    "    \"\"\" Check whether img2 can match with one of the img1 sides by translation only. \n",
    "    Returns positive int 1-4 if match:\n",
    "          1\n",
    "        -----\n",
    "        |   |\n",
    "      4 |img| 2\n",
    "        | 1 | \n",
    "        -----\n",
    "          3\n",
    "  \n",
    "    and -1 if there is no match.\n",
    "    \"\"\"\n",
    "    sides_matched = np.array([False]*4)\n",
    "        \n",
    "    # Check side 1\n",
    "    sides_matched[0] = (img1[0] == img2[0]).all()\n",
    "    # Check side 2\n",
    "    sides_matched[1] = (img1.T[0] == img2.T[0]).all()\n",
    "    # Check side 3\n",
    "    sides_matched[2] = (img1.T[-1] == img2.T[-1]).all()\n",
    "    # Check side 4\n",
    "    sides_matched[3] = (img1[0] == img2[0]).all()\n",
    "           \n",
    "    return sides_matched"
   ]
  }
 ],
 "metadata": {
  "kernelspec": {
   "display_name": "Python 3",
   "language": "python",
   "name": "python3"
  },
  "language_info": {
   "codemirror_mode": {
    "name": "ipython",
    "version": 3
   },
   "file_extension": ".py",
   "mimetype": "text/x-python",
   "name": "python",
   "nbconvert_exporter": "python",
   "pygments_lexer": "ipython3",
   "version": "3.8.5"
  }
 },
 "nbformat": 4,
 "nbformat_minor": 4
}
