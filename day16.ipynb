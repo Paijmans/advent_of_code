{
 "cells": [
  {
   "cell_type": "code",
   "execution_count": 2,
   "metadata": {},
   "outputs": [],
   "source": [
    "import numpy as np\n",
    "import pandas as pd\n",
    "import scipy as sc\n",
    "import re"
   ]
  },
  {
   "cell_type": "markdown",
   "metadata": {},
   "source": [
    "## Day 16"
   ]
  },
  {
   "cell_type": "code",
   "execution_count": 149,
   "metadata": {},
   "outputs": [],
   "source": [
    "file16 = open('day16_input', 'r') \n",
    "input16_lines = file16.readlines() \n",
    "\n",
    "def proc_ticket(ticket_string):\n",
    "\n",
    "    ticket_list = ticket_string.replace('\\n', '').split(',')\n",
    "    return [int(s) for s in ticket_list]\n",
    "\n",
    "def proc_field(field):\n",
    "    \n",
    "    field_ranges = re.findall(r'\\d+', field)\n",
    "    field_ranges = [int(s) for s in field_ranges]\n",
    "    field_name   = field.split(':')[0]\n",
    "    \n",
    "    return [field_name] + field_ranges\n",
    "\n",
    "fields_rules = [proc_field(field) for field in input16_lines[:20]]\n",
    "\n",
    "my_ticket = np.array(proc_ticket(input16_lines[22]))\n",
    "\n",
    "nearby_tickets = [proc_ticket(ticket) for ticket in input16_lines[25:]]\n",
    "nearby_tickets = np.array(nearby_tickets)"
   ]
  },
  {
   "cell_type": "markdown",
   "metadata": {},
   "source": [
    "### Part A"
   ]
  },
  {
   "cell_type": "code",
   "execution_count": 150,
   "metadata": {},
   "outputs": [
    {
     "name": "stdout",
     "output_type": "stream",
     "text": [
      "Valid numbers conists of one range only: True\n"
     ]
    }
   ],
   "source": [
    "valid_numbers = []\n",
    "for name, min1, max1, min2, max2 in fields_rules:\n",
    "    \n",
    "    valid_numbers += list(range(min1, max1+1)) + list(range(min2, max2+1))\n",
    "    \n",
    "valid_numbers = np.unique(valid_numbers)\n",
    "print('Valid numbers conists of one range only:', (np.diff(valid_numbers) == 1).all())"
   ]
  },
  {
   "cell_type": "code",
   "execution_count": 151,
   "metadata": {},
   "outputs": [
    {
     "name": "stdout",
     "output_type": "stream",
     "text": [
      "All numbers on the tickets have to be within 25 and 973\n"
     ]
    }
   ],
   "source": [
    "min_total = valid_numbers.min()\n",
    "max_total = valid_numbers.max()\n",
    "print('All numbers on the tickets have to be within', min_total, 'and', max_total)"
   ]
  },
  {
   "cell_type": "code",
   "execution_count": 152,
   "metadata": {},
   "outputs": [],
   "source": [
    "nearby_tickets_false_fields = (nearby_tickets < min_total) | (nearby_tickets > max_total)\n",
    "nearby_tickets_invalid = nearby_tickets_false_fields.any(axis=1)"
   ]
  },
  {
   "cell_type": "code",
   "execution_count": 153,
   "metadata": {},
   "outputs": [
    {
     "name": "stdout",
     "output_type": "stream",
     "text": [
      "Answer16A: 19087\n"
     ]
    }
   ],
   "source": [
    "scanning_error_rate = nearby_tickets[nearby_tickets_false_fields].sum()\n",
    "answer16A = scanning_error_rate\n",
    "print('Answer16A:', answer16A)"
   ]
  },
  {
   "cell_type": "markdown",
   "metadata": {},
   "source": [
    "### Part B\n",
    "\n",
    "Remove invalid tickets, find out which field coorespond that which name."
   ]
  },
  {
   "cell_type": "code",
   "execution_count": 154,
   "metadata": {},
   "outputs": [],
   "source": [
    "def check_two_range(arr, min1, max1, min2, max2):\n",
    "    \n",
    "    arr_valid_entries = ((arr >= min1) & (arr <= max1)) | ((arr >= min2) & (arr <= max2))\n",
    "    \n",
    "    return arr_valid_entries.all(axis=0)\n",
    "\n",
    "# Remove invalid tickets, add own ticket.\n",
    "valid_nearby_tickets = nearby_tickets[~nearby_tickets_invalid]\n",
    "#valid_nearby_tickets = np.append([my_ticket], valid_nearby_tickets, axis=0)"
   ]
  },
  {
   "cell_type": "code",
   "execution_count": 155,
   "metadata": {},
   "outputs": [
    {
     "data": {
      "text/plain": [
       "array([['departure location', '47', '874', '885', '960'],\n",
       "       ['departure station', '25', '616', '622', '964'],\n",
       "       ['departure platform', '42', '807', '825', '966'],\n",
       "       ['departure track', '36', '560', '583', '965'],\n",
       "       ['departure date', '37', '264', '289', '968'],\n",
       "       ['departure time', '27', '325', '346', '954'],\n",
       "       ['arrival location', '37', '384', '391', '950'],\n",
       "       ['arrival station', '35', '233', '244', '963'],\n",
       "       ['arrival platform', '26', '652', '675', '949'],\n",
       "       ['arrival track', '41', '689', '710', '954'],\n",
       "       ['class', '27', '75', '81', '952'],\n",
       "       ['duration', '45', '784', '807', '967'],\n",
       "       ['price', '40', '350', '374', '970'],\n",
       "       ['route', '30', '892', '904', '968'],\n",
       "       ['row', '47', '144', '151', '957'],\n",
       "       ['seat', '28', '750', '773', '973'],\n",
       "       ['train', '30', '456', '475', '950'],\n",
       "       ['type', '34', '642', '648', '968'],\n",
       "       ['wagon', '42', '486', '498', '970'],\n",
       "       ['zone', '37', '152', '167', '973']], dtype='<U18')"
      ]
     },
     "execution_count": 155,
     "metadata": {},
     "output_type": "execute_result"
    }
   ],
   "source": [
    "np.array(fields_rules)"
   ]
  },
  {
   "cell_type": "code",
   "execution_count": 156,
   "metadata": {},
   "outputs": [],
   "source": [
    "field_valid_for_all_tickets = []\n",
    "for field_name, min1, max1, min2, max2 in fields_rules:\n",
    "    field_valid_for_all_tickets += [list(check_two_range(valid_nearby_tickets, min1, max1, min2, max2))]\n",
    "    \n",
    "field_valid_for_all_tickets = np.array(field_valid_for_all_tickets)\n",
    "valid_fields = pd.DataFrame(field_valid_for_all_tickets.T, columns = np.array(fields_rules).T[0], index=range(20))"
   ]
  },
  {
   "cell_type": "code",
   "execution_count": 172,
   "metadata": {},
   "outputs": [],
   "source": [
    "a = valid_fields.copy()\n",
    "class_field_idx_pair = []\n",
    "\n",
    "for idx in range(20):\n",
    "    #print(idx)\n",
    "    ticket_field_single_valid = a.sum() == 1\n",
    "    ticket_field_single_valid_name = ticket_field_single_valid[ticket_field_single_valid].index[0]\n",
    "    \n",
    "    #print(ticket_field_single_valid)\n",
    "    ticket_field_valid = a.loc[:,ticket_field_single_valid]\n",
    "    #print(ticket_field_valid)\n",
    "    ticket_field_valid_idx = np.where(ticket_field_valid)[0]\n",
    "    #print('\\n', ticket_field_valid_idx)\n",
    "    a.iloc[ticket_field_valid_idx,:] = ticket_field_single_valid.values\n",
    "    a = a.loc[:,~ticket_field_single_valid.values]\n",
    "    \n",
    "    class_field_idx_pair += [[ticket_field_single_valid_name, ticket_field_valid_idx[0]]]\n",
    "    \n",
    "class_field_idx_pair = np.array(class_field_idx_pair)"
   ]
  },
  {
   "cell_type": "code",
   "execution_count": 180,
   "metadata": {},
   "outputs": [
    {
     "name": "stdout",
     "output_type": "stream",
     "text": [
      "zone  -  61\n",
      "duration  -  73\n",
      "type  -  167\n",
      "arrival station  -  113\n",
      "class  -  101\n",
      "price  -  131\n",
      "arrival location  -  107\n",
      "departure date  -  97\n",
      "departure location  -  139\n",
      "departure track  -  137\n",
      "departure station  -  71\n",
      "departure platform  -  127\n",
      "departure time  -  83\n",
      "row  -  109\n",
      "arrival track  -  67\n",
      "train  -  103\n",
      "seat  -  53\n",
      "route  -  89\n",
      "arrival platform  -  151\n",
      "wagon  -  59\n"
     ]
    }
   ],
   "source": [
    "for ticket_class, idx in class_field_idx_pair:\n",
    "    print(ticket_class, ' - ', my_ticket[int(idx)])"
   ]
  },
  {
   "cell_type": "code",
   "execution_count": 181,
   "metadata": {},
   "outputs": [],
   "source": [
    "answer16B = 97 * 139 * 137 * 71 * 127 * 83"
   ]
  },
  {
   "cell_type": "code",
   "execution_count": 182,
   "metadata": {},
   "outputs": [
    {
     "data": {
      "text/plain": [
       "1382443095281"
      ]
     },
     "execution_count": 182,
     "metadata": {},
     "output_type": "execute_result"
    }
   ],
   "source": [
    "answer16B"
   ]
  }
 ],
 "metadata": {
  "kernelspec": {
   "display_name": "Python 3",
   "language": "python",
   "name": "python3"
  },
  "language_info": {
   "codemirror_mode": {
    "name": "ipython",
    "version": 3
   },
   "file_extension": ".py",
   "mimetype": "text/x-python",
   "name": "python",
   "nbconvert_exporter": "python",
   "pygments_lexer": "ipython3",
   "version": "3.8.5"
  }
 },
 "nbformat": 4,
 "nbformat_minor": 4
}
