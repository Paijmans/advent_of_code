{
 "cells": [
  {
   "cell_type": "code",
   "execution_count": 2,
   "metadata": {},
   "outputs": [],
   "source": [
    "import numpy as np\n",
    "import pandas as pd\n",
    "import scipy as sc\n",
    "import re"
   ]
  },
  {
   "cell_type": "markdown",
   "metadata": {},
   "source": [
    "## Day 10"
   ]
  },
  {
   "cell_type": "code",
   "execution_count": 122,
   "metadata": {},
   "outputs": [],
   "source": [
    "input10 = pd.read_csv('day10_input', header=None).values.astype(int).flatten()\n",
    "len(input10)\n",
    "\n",
    "charging_outlet = 0\n",
    "device_input = input10.max()+3"
   ]
  },
  {
   "cell_type": "markdown",
   "metadata": {},
   "source": [
    "### Part A"
   ]
  },
  {
   "cell_type": "code",
   "execution_count": 172,
   "metadata": {},
   "outputs": [
    {
     "data": {
      "text/plain": [
       "array([  0,   1,   2,   3,   6,   9,  12,  13,  14,  15,  18,  19,  22,\n",
       "        23,  26,  27,  28,  29,  32,  35,  36,  37,  40,  43,  46,  47,\n",
       "        48,  49,  50,  53,  56,  57,  58,  59,  60,  63,  64,  65,  66,\n",
       "        67,  70,  71,  72,  73,  74,  77,  78,  79,  80,  83,  86,  87,\n",
       "        88,  89,  90,  93,  94,  95,  96,  97, 100, 103, 104, 105, 106,\n",
       "       107, 110, 113, 114, 115, 118, 119, 122, 125, 128, 129, 130, 133,\n",
       "       134, 135, 136, 139, 142, 143, 144, 145, 146, 149, 150, 151, 152,\n",
       "       153, 156, 159, 162, 163, 166, 169, 170, 171, 172, 175, 178, 179,\n",
       "       180, 183])"
      ]
     },
     "execution_count": 172,
     "metadata": {},
     "output_type": "execute_result"
    }
   ],
   "source": [
    "sorted_adapters = np.sort(input10)\n",
    "all_devices = [charging_outlet] + list(sorted_adapters) + [device_input]\n",
    "all_devides = np.array(all_devides)\n",
    "all_devides"
   ]
  },
  {
   "cell_type": "code",
   "execution_count": 124,
   "metadata": {},
   "outputs": [],
   "source": [
    "num_diff1 = (np.diff(all_devides)==1).sum()\n",
    "num_diff2 = (np.diff(all_devides)==2).sum()\n",
    "num_diff3 = (np.diff(all_devides)==3).sum()"
   ]
  },
  {
   "cell_type": "code",
   "execution_count": 125,
   "metadata": {},
   "outputs": [
    {
     "name": "stdout",
     "output_type": "stream",
     "text": [
      "2574\n"
     ]
    }
   ],
   "source": [
    "answer10A = num_diff1*num_diff3\n",
    "print(answer10A)"
   ]
  },
  {
   "cell_type": "markdown",
   "metadata": {},
   "source": [
    "### Part B\n",
    "\n",
    "Find how many sub-sets of monotonically increasing numbers from the input set that add up to 183.\n",
    "\n",
    "Find number of combinations of sets of consecutive numbers that differ by one. (at most 4 in this set)\n",
    "\n",
    "Lengths of ones sets:\n",
    "#### 1\n",
    "Number of combinations: 1\n",
    "#### 2\n",
    "11 or 2\n",
    "\n",
    "Number of combinations: 2\n",
    "#### 3\n",
    "111 21 12 3\n",
    "\n",
    "Number of combinations: 4\n",
    "##### 4\n",
    "1111 112 121 211 22 31 13\n",
    "\n",
    "Number of combinations: 7"
   ]
  },
  {
   "cell_type": "code",
   "execution_count": 167,
   "metadata": {},
   "outputs": [],
   "source": [
    "import re\n",
    "\n",
    "def number_of_combinations(length_ones):\n",
    "    \n",
    "    if length_ones < 2:\n",
    "        return 1\n",
    "    elif length_ones == 2:\n",
    "        return 2\n",
    "    elif length_ones == 3:\n",
    "        return 4\n",
    "    elif length_ones == 4:\n",
    "        return 7\n",
    "    else:\n",
    "        raise ValueError\n",
    "\n",
    "s=''.join(str(e) for e in np.diff(all_devices))\n",
    "s_ones = re.split(r'3+',s)[:-1]\n",
    "subs_ones_length = [len(s) for s in s_ones]\n",
    "combinations_of_subsets = [number_of_combinations(nbr) for nbr in subs_ones_length]"
   ]
  },
  {
   "cell_type": "code",
   "execution_count": 171,
   "metadata": {},
   "outputs": [
    {
     "name": "stdout",
     "output_type": "stream",
     "text": [
      "2644613988352\n"
     ]
    }
   ],
   "source": [
    "answer10B = np.prod(combinations_of_subsets)\n",
    "print(answer10B)"
   ]
  }
 ],
 "metadata": {
  "kernelspec": {
   "display_name": "Python 3",
   "language": "python",
   "name": "python3"
  },
  "language_info": {
   "codemirror_mode": {
    "name": "ipython",
    "version": 3
   },
   "file_extension": ".py",
   "mimetype": "text/x-python",
   "name": "python",
   "nbconvert_exporter": "python",
   "pygments_lexer": "ipython3",
   "version": "3.8.5"
  }
 },
 "nbformat": 4,
 "nbformat_minor": 4
}
