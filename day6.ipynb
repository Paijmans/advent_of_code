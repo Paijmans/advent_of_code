{
 "cells": [
  {
   "cell_type": "code",
   "execution_count": 2,
   "metadata": {},
   "outputs": [],
   "source": [
    "import numpy as np\n",
    "import pandas as pd\n",
    "import scipy as sc\n",
    "import re"
   ]
  },
  {
   "cell_type": "markdown",
   "metadata": {},
   "source": [
    "## Day 6"
   ]
  },
  {
   "cell_type": "code",
   "execution_count": 71,
   "metadata": {},
   "outputs": [],
   "source": [
    "file6 = open('day6_input', 'r') \n",
    "input6_lines = file6.readlines() "
   ]
  },
  {
   "cell_type": "markdown",
   "metadata": {},
   "source": [
    "### Part A"
   ]
  },
  {
   "cell_type": "code",
   "execution_count": 81,
   "metadata": {},
   "outputs": [],
   "source": [
    "groups = []\n",
    "answers_concat = ''\n",
    "\n",
    "for line in input6_lines:\n",
    "    \n",
    "    if line == '\\n':\n",
    "        groups.append(set(answers_concat))\n",
    "        answers_concat=''\n",
    "    else:\n",
    "        answer=line.replace('\\n','')\n",
    "        answers_concat = answer\n",
    "        \n",
    "groups.append(set(answers_concat))"
   ]
  },
  {
   "cell_type": "code",
   "execution_count": 85,
   "metadata": {},
   "outputs": [],
   "source": [
    "groups_number_of_yes = [len(g) for g in groups]"
   ]
  },
  {
   "cell_type": "code",
   "execution_count": 87,
   "metadata": {},
   "outputs": [
    {
     "name": "stdout",
     "output_type": "stream",
     "text": [
      "6686\n"
     ]
    }
   ],
   "source": [
    "answer6A = sum(groups_number_of_yes)\n",
    "print(answer6A)"
   ]
  },
  {
   "cell_type": "markdown",
   "metadata": {},
   "source": [
    "### Part B"
   ]
  },
  {
   "cell_type": "code",
   "execution_count": 92,
   "metadata": {},
   "outputs": [],
   "source": [
    "groups_answers_everyone = []\n",
    "answers_concat = ''\n",
    "answers_everyone = np.array([])\n",
    "first_answer = True\n",
    "start_ord = ord('a')\n",
    "\n",
    "\n",
    "for line in input6_lines:\n",
    "    \n",
    "    if line == '\\n':\n",
    "        groups_answers_everyone.append(len(answers_everyone))\n",
    "        answers_everyone = np.array([])\n",
    "        first_answer = True\n",
    "    else:\n",
    "        answer=line.replace('\\n','')\n",
    "        answers_numeric = [ord(s)-start_ord for s in answer]\n",
    "        if first_answer==True:\n",
    "            answers_everyone = answers_numeric.copy()\n",
    "            first_answer = False\n",
    "        else:\n",
    "            answers_everyone = np.intersect1d(answers_everyone, answers_numeric)\n",
    "        \n",
    "groups_answers_everyone.append(len(answers_everyone))"
   ]
  },
  {
   "cell_type": "code",
   "execution_count": 94,
   "metadata": {},
   "outputs": [
    {
     "data": {
      "text/plain": [
       "0"
      ]
     },
     "execution_count": 94,
     "metadata": {},
     "output_type": "execute_result"
    }
   ],
   "source": [
    "groups_answers_everyone[9]"
   ]
  },
  {
   "cell_type": "code",
   "execution_count": 95,
   "metadata": {},
   "outputs": [
    {
     "name": "stdout",
     "output_type": "stream",
     "text": [
      "3476\n"
     ]
    }
   ],
   "source": [
    "answer6A=sum(groups_answers_everyone)\n",
    "print(answer6A)"
   ]
  }
 ],
 "metadata": {
  "kernelspec": {
   "display_name": "Python 3",
   "language": "python",
   "name": "python3"
  },
  "language_info": {
   "codemirror_mode": {
    "name": "ipython",
    "version": 3
   },
   "file_extension": ".py",
   "mimetype": "text/x-python",
   "name": "python",
   "nbconvert_exporter": "python",
   "pygments_lexer": "ipython3",
   "version": "3.8.5"
  }
 },
 "nbformat": 4,
 "nbformat_minor": 4
}
